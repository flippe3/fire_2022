{
 "cells": [
  {
   "cell_type": "code",
   "execution_count": 4,
   "metadata": {},
   "outputs": [],
   "source": [
    "import pandas as pd\n",
    "from dataset import Dataset\n",
    "data = Dataset()"
   ]
  },
  {
   "cell_type": "markdown",
   "metadata": {},
   "source": [
    "# Fire 2022 Training Duplicates"
   ]
  },
  {
   "cell_type": "code",
   "execution_count": 5,
   "metadata": {},
   "outputs": [
    {
     "name": "stdout",
     "output_type": "stream",
     "text": [
      "Tamil train duplicates: 36 / 35417\n",
      "Kannada train duplicates: 45 / 5943\n",
      "Malayalam train duplicates: 121 / 15334\n"
     ]
    }
   ],
   "source": [
    "tam_train = pd.read_csv(data.fire_2022_tam_train, '\\t')\n",
    "kan_train = pd.read_csv(data.fire_2022_kan_train, '\\t')\n",
    "mal_train = pd.read_csv(data.fire_2022_mal_train, '\\t')\n",
    "\n",
    "tam_train = tam_train.drop_duplicates(subset='text')\n",
    "kan_train = kan_train.drop_duplicates(subset='text')\n",
    "mal_train = mal_train.drop_duplicates(subset='text')\n",
    "\n",
    "tam_train_duplicates = len(tam_train.text.duplicated()[tam_train.text.duplicated()==True])\n",
    "kan_train_duplicates = len(kan_train.text.duplicated()[kan_train.text.duplicated()==True])\n",
    "mal_train_duplicates = len(mal_train.text.duplicated()[mal_train.text.duplicated()==True])\n",
    "\n",
    "print(f\"Tamil train duplicates: {tam_train_duplicates} / {len(tam_train)}\")\n",
    "print(f\"Kannada train duplicates: {kan_train_duplicates} / {len(kan_train)}\")\n",
    "print(f\"Malayalam train duplicates: {mal_train_duplicates} / {len(mal_train)}\")"
   ]
  },
  {
   "cell_type": "markdown",
   "metadata": {},
   "source": [
    "# Fire 2022 Validation Duplicates"
   ]
  },
  {
   "cell_type": "code",
   "execution_count": 3,
   "metadata": {},
   "outputs": [
    {
     "name": "stdout",
     "output_type": "stream",
     "text": [
      "Tamil val duplicates: 8 / 3962\n",
      "Kannada val duplicates: 11 / 691\n",
      "Malayalam val duplicates: 9 / 1766\n"
     ]
    }
   ],
   "source": [
    "tam_val = pd.read_csv(data.fire_2022_tam_val, '\\t')\n",
    "kan_val = pd.read_csv(data.fire_2022_kan_val, '\\t')\n",
    "mal_val = pd.read_csv(data.fire_2022_mal_val, '\\t')\n",
    "\n",
    "tam_val_duplicates = len(tam_val.text.duplicated()[tam_val.text.duplicated()==True])\n",
    "kan_val_duplicates = len(kan_val.text.duplicated()[kan_val.text.duplicated()==True])\n",
    "mal_val_duplicates = len(mal_val.text.duplicated()[mal_val.text.duplicated()==True])\n",
    "\n",
    "\n",
    "print(f\"Tamil val duplicates: {tam_val_duplicates} / {len(tam_val)}\")\n",
    "print(f\"Kannada val duplicates: {kan_val_duplicates} / {len(kan_val)}\")\n",
    "print(f\"Malayalam val duplicates: {mal_val_duplicates} / {len(mal_val)}\")"
   ]
  },
  {
   "cell_type": "markdown",
   "metadata": {},
   "source": [
    "# Fire 2022 Train-Validation duplicates "
   ]
  },
  {
   "cell_type": "code",
   "execution_count": 4,
   "metadata": {},
   "outputs": [
    {
     "name": "stdout",
     "output_type": "stream",
     "text": [
      "Tamil train-val duplicates: 53 / 3962\n",
      "Kannada train-val duplicates: 37 / 691\n",
      "Malayalam train-val duplicates: 125 / 1766\n"
     ]
    }
   ],
   "source": [
    "tam_val_train_duplicates = 0\n",
    "for i in tam_val.text:\n",
    "    for j in tam_train.text:\n",
    "        if i == j:\n",
    "            tam_val_train_duplicates += 1\n",
    "            break\n",
    "\n",
    "kan_val_train_duplicates = 0\n",
    "for i in kan_val.text:\n",
    "    for j in kan_train.text:\n",
    "        if i == j:\n",
    "            kan_val_train_duplicates += 1\n",
    "            break\n",
    "\n",
    "mal_val_train_duplicates = 0\n",
    "for i in mal_val.text:\n",
    "    for j in mal_train.text:\n",
    "        if i == j:\n",
    "            mal_val_train_duplicates += 1\n",
    "            break\n",
    "\n",
    "print(f\"Tamil train-val duplicates: {tam_val_train_duplicates} / {len(tam_val)}\")\n",
    "print(f\"Kannada train-val duplicates: {kan_val_train_duplicates} / {len(kan_val)}\")\n",
    "print(f\"Malayalam train-val duplicates: {mal_val_train_duplicates} / {len(mal_val)}\")"
   ]
  },
  {
   "cell_type": "markdown",
   "metadata": {},
   "source": [
    "# Fire 2021 Training - Fire 2022 Validation Duplicates"
   ]
  },
  {
   "cell_type": "code",
   "execution_count": 5,
   "metadata": {},
   "outputs": [
    {
     "name": "stdout",
     "output_type": "stream",
     "text": [
      "2021 Tamil train-val duplicates: 3962 / 3962\n",
      "2021 Malayalam train-val duplicates: 1766 / 1766\n"
     ]
    }
   ],
   "source": [
    "tam_train_fire_2021 = pd.read_csv(data.fire_2021_tam_train, '\\t')\n",
    "mal_train_fire_2021 = pd.read_csv(data.fire_2021_mal_train, '\\t')\n",
    "\n",
    "tam_val_train_2021_duplicates = 0\n",
    "for i in tam_val.text:\n",
    "    for j in tam_train_fire_2021.text:\n",
    "        if i == j:\n",
    "            tam_val_train_2021_duplicates += 1\n",
    "            break\n",
    "\n",
    "\n",
    "mal_val_train_2021_duplicates = 0\n",
    "for i in mal_val.text:\n",
    "    for j in mal_train_fire_2021.text:\n",
    "        if i == j:\n",
    "            mal_val_train_2021_duplicates += 1\n",
    "            break\n",
    "        \n",
    "print(f\"2021 Tamil train-val duplicates: {tam_val_train_2021_duplicates} / {len(tam_val)}\")\n",
    "print(f\"2021 Malayalam train-val duplicates: {mal_val_train_2021_duplicates} / {len(mal_val)}\")"
   ]
  },
  {
   "cell_type": "code",
   "execution_count": 11,
   "metadata": {},
   "outputs": [
    {
     "name": "stdout",
     "output_type": "stream",
     "text": [
      "2020 Tamil train-val duplicates: 0 / 3962\n",
      "2020 Tamil train-train duplicates: 0 / 35656\n"
     ]
    }
   ],
   "source": [
    "tam_train_2020 = pd.read_csv(data.fire_2020_tam_train, '\\t')\n",
    "tam_val_train_2020_duplicates = 0\n",
    "for i in tam_val.text:\n",
    "    for j in tam_train_2020.text:\n",
    "        if i == j:\n",
    "            tam_val_train_2020_duplicates += 1\n",
    "            break\n",
    "print(f\"2020 Tamil train-val duplicates: {tam_val_train_2020_duplicates} / {len(tam_val)}\")\n",
    "\n",
    "\n",
    "tam_train_train_2020_duplicates = 0\n",
    "for i in tam_train.text:\n",
    "    for j in tam_train_2020.text:\n",
    "        if i == j:\n",
    "            tam_val_train_2020_duplicates += 1\n",
    "            break\n",
    "print(f\"2020 Tamil train-train duplicates: {tam_train_train_2020_duplicates} / {len(tam_train)}\")"
   ]
  },
  {
   "cell_type": "code",
   "execution_count": null,
   "metadata": {},
   "outputs": [],
   "source": []
  }
 ],
 "metadata": {
  "kernelspec": {
   "display_name": "nlp-venv",
   "language": "python",
   "name": "myenv"
  },
  "orig_nbformat": 4,
  "vscode": {
   "interpreter": {
    "hash": "df0893f56f349688326838aaeea0de204df53a132722cbd565e54b24a8fec5f6"
   }
  }
 },
 "nbformat": 4,
 "nbformat_minor": 2
}
