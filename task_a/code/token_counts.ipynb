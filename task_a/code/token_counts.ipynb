{
 "cells": [
  {
   "cell_type": "markdown",
   "metadata": {},
   "source": [
    "# Word Counts (seperated by spaces)"
   ]
  },
  {
   "cell_type": "code",
   "execution_count": null,
   "metadata": {},
   "outputs": [],
   "source": [
    "from dataset import *\n",
    "data = Dataset()"
   ]
  },
  {
   "cell_type": "code",
   "execution_count": 7,
   "metadata": {},
   "outputs": [],
   "source": [
    "tamil_train = pd.read_csv(data.fire_2022_tam_train, '\\t')\n",
    "tamil_val = pd.read_csv(data.fire_2022_tam_val, '\\t')\n",
    "\n",
    "kan_train = pd.read_csv(data.fire_2022_kan_train, '\\t')\n",
    "kan_val = pd.read_csv(data.fire_2022_kan_val, '\\t')\n",
    "\n",
    "mal_train = pd.read_csv(data.fire_2022_mal_train, '\\t')\n",
    "mal_val = pd.read_csv(data.fire_2022_mal_val, '\\t')"
   ]
  },
  {
   "cell_type": "code",
   "execution_count": 8,
   "metadata": {},
   "outputs": [
    {
     "name": "stdout",
     "output_type": "stream",
     "text": [
      "Average word count tamil_train: 10.864342607134844\n",
      "Average word count tamil_val: 10.847299343765775\n"
     ]
    }
   ],
   "source": [
    "lengths_tamil_train = []\n",
    "lengths_tamil_val = []\n",
    "for i in tamil_train.text:\n",
    "    lengths_tamil_train.append(len(i.split(' ')))\n",
    "\n",
    "for i in tamil_val.text:\n",
    "    lengths_tamil_val.append(len(i.split(' ')))\n",
    "\n",
    "print(f\"Average word count tamil_train: {sum(lengths_tamil_train) / (len(lengths_tamil_train))}\")\n",
    "print(f\"Average word count tamil_val: {sum(lengths_tamil_val) / (len(lengths_tamil_val))}\")"
   ]
  },
  {
   "cell_type": "code",
   "execution_count": 9,
   "metadata": {},
   "outputs": [
    {
     "name": "stdout",
     "output_type": "stream",
     "text": [
      "Average word count kan_train: 8.031712813908564\n",
      "Average word count kan_val: 7.992764109985528\n"
     ]
    }
   ],
   "source": [
    "lengths_kan_train = []\n",
    "lengths_kan_val = []\n",
    "for i in kan_train.text:\n",
    "    lengths_kan_train.append(len(i.split(' ')))\n",
    "\n",
    "for i in kan_val.text:\n",
    "    lengths_kan_val.append(len(i.split(' ')))\n",
    "\n",
    "print(f\"Average word count kan_train: {sum(lengths_kan_train) / (len(lengths_kan_train))}\")\n",
    "print(f\"Average word count kan_val: {sum(lengths_kan_val) / (len(lengths_kan_val))}\")"
   ]
  },
  {
   "cell_type": "code",
   "execution_count": 10,
   "metadata": {},
   "outputs": [
    {
     "name": "stdout",
     "output_type": "stream",
     "text": [
      "Average word count kan_train: 10.878839375629406\n",
      "Average word count kan_val: 11.016987542468856\n"
     ]
    }
   ],
   "source": [
    "lengths_mal_train = []\n",
    "lengths_mal_val = []\n",
    "for i in mal_train.text:\n",
    "    lengths_mal_train.append(len(i.split(' ')))\n",
    "\n",
    "for i in mal_val.text:\n",
    "    lengths_mal_val.append(len(i.split(' ')))\n",
    "\n",
    "print(f\"Average word count kan_train: {sum(lengths_mal_train) / (len(lengths_mal_train))}\")\n",
    "print(f\"Average word count kan_val: {sum(lengths_mal_val) / (len(lengths_mal_val))}\")"
   ]
  },
  {
   "cell_type": "code",
   "execution_count": 1,
   "metadata": {},
   "outputs": [
    {
     "name": "stdout",
     "output_type": "stream",
     "text": [
      "There are 1 GPU(s) available.\n",
      "We will use the GPU:Tesla V100-SXM2-32GB (cuda)\n"
     ]
    },
    {
     "name": "stderr",
     "output_type": "stream",
     "text": [
      "Some weights of the model checkpoint at sentence-transformers/paraphrase-xlm-r-multilingual-v1 were not used when initializing XLMRobertaForSequenceClassification: ['pooler.dense.bias', 'pooler.dense.weight']\n",
      "- This IS expected if you are initializing XLMRobertaForSequenceClassification from the checkpoint of a model trained on another task or with another architecture (e.g. initializing a BertForSequenceClassification model from a BertForPreTraining model).\n",
      "- This IS NOT expected if you are initializing XLMRobertaForSequenceClassification from the checkpoint of a model that you expect to be exactly identical (initializing a BertForSequenceClassification model from a BertForSequenceClassification model).\n",
      "Some weights of XLMRobertaForSequenceClassification were not initialized from the model checkpoint at sentence-transformers/paraphrase-xlm-r-multilingual-v1 and are newly initialized: ['classifier.dense.weight', 'classifier.dense.bias', 'classifier.out_proj.weight', 'classifier.out_proj.bias']\n",
      "You should probably TRAIN this model on a down-stream task to be able to use it for predictions and inference.\n",
      "/home/filnil/nlp/lib/python3.6/site-packages/transformers/optimization.py:309: FutureWarning: This implementation of AdamW is deprecated and will be removed in a future version. Use the PyTorch implementation torch.optim.AdamW instead, or set `no_deprecation_warning=True` to disable this warning\n",
      "  FutureWarning,\n"
     ]
    }
   ],
   "source": [
    "import torch\n",
    "from tqdm import tqdm\n",
    "from torch.utils.data import TensorDataset, DataLoader, RandomSampler, SequentialSampler\n",
    "import numpy as np\n",
    "from sklearn.metrics import classification_report\n",
    "from transformers import TOKENIZER_MAPPING, AutoModelForSequenceClassification, AutoTokenizer, AdamW, get_linear_schedule_with_warmup, XLMRobertaTokenizer, XLMRobertaForSequenceClassification\n",
    "import os\n",
    "from util import create_output\n",
    "\n",
    "TOKENIZER_NAME = \"sentence-transformers/paraphrase-xlm-r-multilingual-v1\"\n",
    "MODEL_NAME = \"sentence-transformers/paraphrase-xlm-r-multilingual-v1\"\n",
    "LEARNING_RATE = 3e-5\n",
    "\n",
    "OUTPUT_FILE = \"paraphrase-roberta-tamil.md\"\n",
    "\n",
    "EPOCHS = 4\n",
    "BATCH_SIZE = 24\n",
    "os.environ[\"CUDA_VISIBLE_DEVICES\"]=\"5\"\n",
    "\n",
    "if torch.cuda.is_available():    \n",
    "    device = torch.device(\"cuda\")\n",
    "    print('There are %d GPU(s) available.' % torch.cuda.device_count())    \n",
    "    print(f'We will use the GPU:{torch.cuda.get_device_name()} ({device})')\n",
    "\n",
    "else:\n",
    "    print('NO GPU AVAILABLE ERROR')\n",
    "    device = torch.device(\"cpu\")\n",
    "   \n",
    "\n",
    "tokenizer = AutoTokenizer.from_pretrained(TOKENIZER_NAME)\n",
    "model = AutoModelForSequenceClassification.from_pretrained(MODEL_NAME, num_labels=5, output_attentions=True)\n",
    "model.to(device)\n",
    "optimizer = AdamW(model.parameters(), lr = LEARNING_RATE)\n",
    "\n",
    "data = Dataset()\n",
    "tam_train_2022, tam_val_2022, kannada_train_2022, kannada_val_2022, malayalam_train_2022, malayalam_val_2022 = data.get_fire_2022_dataset(tokenizer)"
   ]
  },
  {
   "cell_type": "code",
   "execution_count": 11,
   "metadata": {},
   "outputs": [
    {
     "name": "stdout",
     "output_type": "stream",
     "text": [
      "Tam train avg tokens: 23.188607807942564\n",
      "Tam val avg tokens: 23.042402826855124\n"
     ]
    }
   ],
   "source": [
    "tam_train_lengths = []\n",
    "tam_val_lengths = []\n",
    "\n",
    "for i in tam_train_2022.tensors[1]:\n",
    "    tam_train_lengths.append(int(i.count_nonzero()))\n",
    "\n",
    "for i in tam_val_2022.tensors[1]:\n",
    "    tam_val_lengths.append(int(i.count_nonzero()))\n",
    "\n",
    "print(f\"Tam train avg tokens: {sum(tam_train_lengths) / len(tam_train_lengths)}\")\n",
    "print(f\"Tam val avg tokens: {sum(tam_val_lengths) / len(tam_val_lengths)}\")\n"
   ]
  },
  {
   "cell_type": "code",
   "execution_count": 12,
   "metadata": {},
   "outputs": [
    {
     "name": "stdout",
     "output_type": "stream",
     "text": [
      "kan train avg tokens: 17.666934964584676\n",
      "kan val avg tokens: 17.795947901591894\n"
     ]
    }
   ],
   "source": [
    "kan_train_lengths = []\n",
    "kan_val_lengths = []\n",
    "\n",
    "for i in kannada_train_2022.tensors[1]:\n",
    "    kan_train_lengths.append(int(i.count_nonzero()))\n",
    "\n",
    "for i in kannada_val_2022.tensors[1]:\n",
    "    kan_val_lengths.append(int(i.count_nonzero()))\n",
    "\n",
    "print(f\"kan train avg tokens: {sum(kan_train_lengths) / len(kan_train_lengths)}\")\n",
    "print(f\"kan val avg tokens: {sum(kan_val_lengths) / len(kan_val_lengths)}\")"
   ]
  },
  {
   "cell_type": "code",
   "execution_count": 13,
   "metadata": {},
   "outputs": [
    {
     "name": "stdout",
     "output_type": "stream",
     "text": [
      "mal train avg tokens: 25.728222557905337\n",
      "mal val avg tokens: 25.405436013590034\n"
     ]
    }
   ],
   "source": [
    "mal_train_lengths = []\n",
    "mal_val_lengths = []\n",
    "\n",
    "for i in malayalam_train_2022.tensors[1]:\n",
    "    mal_train_lengths.append(int(i.count_nonzero()))\n",
    "\n",
    "for i in malayalam_val_2022.tensors[1]:\n",
    "    mal_val_lengths.append(int(i.count_nonzero()))\n",
    "\n",
    "print(f\"mal train avg tokens: {sum(mal_train_lengths) / len(mal_train_lengths)}\")\n",
    "print(f\"mal val avg tokens: {sum(mal_val_lengths) / len(mal_val_lengths)}\")\n"
   ]
  },
  {
   "cell_type": "code",
   "execution_count": null,
   "metadata": {},
   "outputs": [],
   "source": []
  }
 ],
 "metadata": {
  "kernelspec": {
   "display_name": "nlp-venv",
   "language": "python",
   "name": "myenv"
  },
  "language_info": {
   "codemirror_mode": {
    "name": "ipython",
    "version": 3
   },
   "file_extension": ".py",
   "mimetype": "text/x-python",
   "name": "python",
   "nbconvert_exporter": "python",
   "pygments_lexer": "ipython3",
   "version": "3.6.9"
  },
  "orig_nbformat": 4,
  "vscode": {
   "interpreter": {
    "hash": "7eff1a03265c15a5d6fa9ee4520768c073ac02579f8a3dbe7a498bbb655b69ab"
   }
  }
 },
 "nbformat": 4,
 "nbformat_minor": 2
}
