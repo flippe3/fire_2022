{
 "cells": [
  {
   "cell_type": "code",
   "execution_count": 3,
   "metadata": {},
   "outputs": [],
   "source": [
    "import pandas as pd\n",
    "from dataset import MTL_Dataset"
   ]
  },
  {
   "cell_type": "code",
   "execution_count": 4,
   "metadata": {},
   "outputs": [],
   "source": [
    "data = MTL_Dataset()"
   ]
  },
  {
   "cell_type": "code",
   "execution_count": 26,
   "metadata": {},
   "outputs": [
    {
     "name": "stdout",
     "output_type": "stream",
     "text": [
      "                                                   text       category\n",
      "0                   Mammooka ninghal mass aa pwoli item       Positive\n",
      "1         Waiting for Malayalam movie  For Tamil paiyan  not-malayalam\n",
      "2        ദളപതി ഫാൻസിന്റെ വക ഒരു ഒന്നൊന്നര വിജയാശംസകൾ...       Positive\n",
      "3     #Trailer pwolichuuuu ഓണത്തിന് വന്നങ്ങു തകർത്തേ...       Positive\n",
      "4      Mammoookkaaaa polichadukkiii katta waiting nv 21       Positive\n",
      "...                                                 ...            ...\n",
      "1761            Aa ചിരി uff എന്റെ പൊന്നോ ഇക്ക vere ലെവൽ       Positive\n",
      "1762   Katta katta katta katta waiting....cant wait man       Positive\n",
      "1763  Arjun reddy bgm poole thonniyathu enniku mathr...  unknown_state\n",
      "1764             Fahad ikka ithilum polikum en urappayi       Positive\n",
      "1765  Njan veendum kanan vannu 100 pravashyam enkilu...       Positive\n",
      "\n",
      "[1766 rows x 2 columns]\n"
     ]
    }
   ],
   "source": [
    "a = pd.read_csv(data.mal_sentiment_d, '\\t')\n",
    "print(a)\n",
    "dic = {'category': a['category'], 'text': a['text']}\n",
    "newpd = pd.DataFrame(dic)"
   ]
  },
  {
   "cell_type": "code",
   "execution_count": 28,
   "metadata": {},
   "outputs": [],
   "source": [
    "newpd.to_csv('Mal_sentiment_dev.tsv', sep='\\t', index=False)"
   ]
  },
  {
   "cell_type": "code",
   "execution_count": null,
   "metadata": {},
   "outputs": [],
   "source": []
  }
 ],
 "metadata": {
  "kernelspec": {
   "display_name": "nlp-venv",
   "language": "python",
   "name": "myenv"
  },
  "language_info": {
   "codemirror_mode": {
    "name": "ipython",
    "version": 3
   },
   "file_extension": ".py",
   "mimetype": "text/x-python",
   "name": "python",
   "nbconvert_exporter": "python",
   "pygments_lexer": "ipython3",
   "version": "3.6.9"
  },
  "orig_nbformat": 4
 },
 "nbformat": 4,
 "nbformat_minor": 2
}
