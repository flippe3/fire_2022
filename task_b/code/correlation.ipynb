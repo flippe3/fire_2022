{
 "cells": [
  {
   "cell_type": "code",
   "execution_count": 99,
   "metadata": {},
   "outputs": [],
   "source": [
    "import torch\n",
    "from tqdm import tqdm\n",
    "from torch.utils.data import TensorDataset, DataLoader, RandomSampler, SequentialSampler\n",
    "import numpy as np\n",
    "from sklearn.metrics import classification_report\n",
    "from transformers import TOKENIZER_MAPPING, AutoModelForSequenceClassification, AutoTokenizer, AdamW, get_linear_schedule_with_warmup, XLMRobertaTokenizer, XLMRobertaForSequenceClassification\n",
    "import os\n",
    "from dataset import Dataset\n",
    "import pandas as pd"
   ]
  },
  {
   "cell_type": "code",
   "execution_count": 100,
   "metadata": {},
   "outputs": [
    {
     "name": "stdout",
     "output_type": "stream",
     "text": [
      "There are 2 GPU(s) available.\n",
      "We will use the GPU:Tesla V100-SXM2-32GB (cuda)\n",
      "Texts: 3128\n",
      "Label names: Index(['Homophobic', 'Non-anti-LGBT+ content', 'Transphobic'], dtype='object')\n",
      "Texts: 790\n",
      "Label names: Index(['Homophobic', 'Non-anti-LGBT+ content', 'Transphobic'], dtype='object')\n",
      "Texts: 1750\n",
      "Label names: Index(['Homophobic', 'Non-anti-LGBT+ content', 'Transphobic'], dtype='object')\n",
      "Texts: 621\n",
      "Label names: Index(['Homophobic', 'Non-anti-LGBT+ content', 'Transphobic'], dtype='object')\n",
      "Texts: 2521\n",
      "Label names: Index(['Homophobic', 'Non-anti-LGBT+ content', 'Transphobic'], dtype='object')\n",
      "Texts: 837\n",
      "Label names: Index(['Homophobic', 'Non-anti-LGBT+ content', 'Transphobic'], dtype='object')\n",
      "Texts: 3807\n",
      "Label names: Index(['Homophobic', 'Non-anti-LGBT+ content', 'Transphobic'], dtype='object')\n",
      "Texts: 962\n",
      "Label names: Index(['Homophobic', 'Non-anti-LGBT+ content', 'Transphobic'], dtype='object')\n"
     ]
    }
   ],
   "source": [
    "TOKENIZER_NAME = \"sentence-transformers/paraphrase-xlm-r-multilingual-v1\"\n",
    "MODEL_NAME = \"sentence-transformers/paraphrase-xlm-r-multilingual-v1\"\n",
    "LEARNING_RATE = 3e-5\n",
    "\n",
    "EPOCHS = 4\n",
    "BATCH_SIZE = 24 \n",
    "os.environ[\"CUDA_VISIBLE_DEVICES\"]=\"0,1\"\n",
    "\n",
    "if torch.cuda.is_available():    \n",
    "    device = torch.device(\"cuda\")\n",
    "    print('There are %d GPU(s) available.' % torch.cuda.device_count())    \n",
    "    print(f'We will use the GPU:{torch.cuda.get_device_name()} ({device})')\n",
    "\n",
    "else:\n",
    "    print('NO GPU AVAILABLE ERROR')\n",
    "    device = torch.device(\"cpu\")\n",
    "   \n",
    "tokenizer = AutoTokenizer.from_pretrained(TOKENIZER_NAME)\n",
    "model = AutoModelForSequenceClassification.from_pretrained(\"../../task_a/pickles_tam/\", num_labels=5, output_attentions=True)\n",
    "\n",
    "model.to(device)\n",
    "optimizer = AdamW(model.parameters(), lr = LEARNING_RATE, no_deprecation_warning=True)\n",
    "\n",
    "data = Dataset()\n",
    "_, _, _, _, _, _, datatrain, _ = data.get_phobia_dataset(tokenizer, balance=False)\n",
    "#_,_, kan_train_2022, _, _,_ = data.get_fire_2022_dataset(tokenizer, balance=False)\n",
    "\n",
    "train_dataloader = DataLoader(\n",
    "            datatrain,\n",
    "            sampler = RandomSampler(datatrain),\n",
    "            batch_size = BATCH_SIZE)\n",
    "\n",
    "total_steps = len(train_dataloader) * EPOCHS\n",
    "\n",
    "scheduler = get_linear_schedule_with_warmup(optimizer, \n",
    "                                            num_warmup_steps = 0,\n",
    "                                            num_training_steps = total_steps)\n"
   ]
  },
  {
   "cell_type": "code",
   "execution_count": 103,
   "metadata": {},
   "outputs": [],
   "source": [
    "def correlation_validation(model, tokenizer, device, BS=16):\n",
    "    vbar = tqdm(enumerate(train_dataloader), total=len(train_dataloader))\n",
    "\n",
    "    model.eval()\n",
    "    \n",
    "    true_labels = []\n",
    "    pred_labels = []\n",
    "    \n",
    "    # Label names: Index(['Mixed_feelings', 'Negative', 'Positive', 'not-Tamil', 'unknown_state']\n",
    "    # Label names: Index(['Homophobic', 'Non-anti-LGBT+ content', 'Transphobic']\n",
    "    datalist = []\n",
    "    for step, batch in vbar:\n",
    "        b_input_ids = batch[0].to(device)\n",
    "        b_masks = batch[1].to(device)\n",
    "        b_labels = batch[2].to(device)\n",
    "\n",
    "        with torch.no_grad(): \n",
    "            outputs = model(input_ids=b_input_ids, attention_mask=b_masks,\n",
    "                                            labels=b_labels)\n",
    "            \n",
    "            logits = outputs.logits.detach().cpu().numpy().tolist()\n",
    "            label_ids = b_labels.to('cpu').numpy().tolist()\n",
    "            \n",
    "            true_labels.extend(label_ids)\n",
    "            \n",
    "            for i in range(len(logits)):\n",
    "                datalist.append([label_ids[i], logits[i][0], logits[i][1], logits[i][2], logits[i][3], logits[i][4]])\n",
    "            \n",
    "    model.train()\n",
    "    return datalist"
   ]
  },
  {
   "cell_type": "code",
   "execution_count": 104,
   "metadata": {},
   "outputs": [
    {
     "name": "stderr",
     "output_type": "stream",
     "text": [
      "100%|██████████| 159/159 [00:37<00:00,  4.23it/s]\n"
     ]
    }
   ],
   "source": [
    "d = correlation_validation(model, tokenizer, device)"
   ]
  },
  {
   "cell_type": "code",
   "execution_count": 95,
   "metadata": {},
   "outputs": [
    {
     "data": {
      "text/html": [
       "<div>\n",
       "<style scoped>\n",
       "    .dataframe tbody tr th:only-of-type {\n",
       "        vertical-align: middle;\n",
       "    }\n",
       "\n",
       "    .dataframe tbody tr th {\n",
       "        vertical-align: top;\n",
       "    }\n",
       "\n",
       "    .dataframe thead th {\n",
       "        text-align: right;\n",
       "    }\n",
       "</style>\n",
       "<table border=\"1\" class=\"dataframe\">\n",
       "  <thead>\n",
       "    <tr style=\"text-align: right;\">\n",
       "      <th></th>\n",
       "      <th>0</th>\n",
       "      <th>1</th>\n",
       "      <th>2</th>\n",
       "      <th>3</th>\n",
       "      <th>4</th>\n",
       "      <th>5</th>\n",
       "    </tr>\n",
       "  </thead>\n",
       "  <tbody>\n",
       "    <tr>\n",
       "      <th>0</th>\n",
       "      <td>1</td>\n",
       "      <td>-0.244377</td>\n",
       "      <td>4.256146</td>\n",
       "      <td>-1.875886</td>\n",
       "      <td>-1.758464</td>\n",
       "      <td>-1.138927</td>\n",
       "    </tr>\n",
       "    <tr>\n",
       "      <th>1</th>\n",
       "      <td>1</td>\n",
       "      <td>-1.050380</td>\n",
       "      <td>-1.492828</td>\n",
       "      <td>4.906031</td>\n",
       "      <td>-0.383150</td>\n",
       "      <td>-2.220087</td>\n",
       "    </tr>\n",
       "    <tr>\n",
       "      <th>2</th>\n",
       "      <td>1</td>\n",
       "      <td>-1.434588</td>\n",
       "      <td>-2.355056</td>\n",
       "      <td>4.702646</td>\n",
       "      <td>0.093078</td>\n",
       "      <td>-1.100863</td>\n",
       "    </tr>\n",
       "    <tr>\n",
       "      <th>3</th>\n",
       "      <td>1</td>\n",
       "      <td>-1.450472</td>\n",
       "      <td>-0.877995</td>\n",
       "      <td>3.174911</td>\n",
       "      <td>-0.891766</td>\n",
       "      <td>-0.271309</td>\n",
       "    </tr>\n",
       "    <tr>\n",
       "      <th>4</th>\n",
       "      <td>1</td>\n",
       "      <td>-0.346477</td>\n",
       "      <td>1.921342</td>\n",
       "      <td>0.165725</td>\n",
       "      <td>-3.512639</td>\n",
       "      <td>0.960543</td>\n",
       "    </tr>\n",
       "    <tr>\n",
       "      <th>...</th>\n",
       "      <td>...</td>\n",
       "      <td>...</td>\n",
       "      <td>...</td>\n",
       "      <td>...</td>\n",
       "      <td>...</td>\n",
       "      <td>...</td>\n",
       "    </tr>\n",
       "    <tr>\n",
       "      <th>957</th>\n",
       "      <td>1</td>\n",
       "      <td>-1.399992</td>\n",
       "      <td>0.415874</td>\n",
       "      <td>2.443807</td>\n",
       "      <td>-4.034671</td>\n",
       "      <td>1.627391</td>\n",
       "    </tr>\n",
       "    <tr>\n",
       "      <th>958</th>\n",
       "      <td>1</td>\n",
       "      <td>1.060619</td>\n",
       "      <td>-1.743320</td>\n",
       "      <td>3.796275</td>\n",
       "      <td>-3.460768</td>\n",
       "      <td>0.003241</td>\n",
       "    </tr>\n",
       "    <tr>\n",
       "      <th>959</th>\n",
       "      <td>1</td>\n",
       "      <td>-0.550741</td>\n",
       "      <td>1.052425</td>\n",
       "      <td>3.691472</td>\n",
       "      <td>-3.408550</td>\n",
       "      <td>-1.491923</td>\n",
       "    </tr>\n",
       "    <tr>\n",
       "      <th>960</th>\n",
       "      <td>1</td>\n",
       "      <td>-0.792785</td>\n",
       "      <td>-1.308054</td>\n",
       "      <td>4.466270</td>\n",
       "      <td>-0.196903</td>\n",
       "      <td>-2.434020</td>\n",
       "    </tr>\n",
       "    <tr>\n",
       "      <th>961</th>\n",
       "      <td>1</td>\n",
       "      <td>-1.643893</td>\n",
       "      <td>-1.257941</td>\n",
       "      <td>4.663310</td>\n",
       "      <td>-2.556895</td>\n",
       "      <td>0.401875</td>\n",
       "    </tr>\n",
       "  </tbody>\n",
       "</table>\n",
       "<p>962 rows × 6 columns</p>\n",
       "</div>"
      ],
      "text/plain": [
       "     0         1         2         3         4         5\n",
       "0    1 -0.244377  4.256146 -1.875886 -1.758464 -1.138927\n",
       "1    1 -1.050380 -1.492828  4.906031 -0.383150 -2.220087\n",
       "2    1 -1.434588 -2.355056  4.702646  0.093078 -1.100863\n",
       "3    1 -1.450472 -0.877995  3.174911 -0.891766 -0.271309\n",
       "4    1 -0.346477  1.921342  0.165725 -3.512639  0.960543\n",
       "..  ..       ...       ...       ...       ...       ...\n",
       "957  1 -1.399992  0.415874  2.443807 -4.034671  1.627391\n",
       "958  1  1.060619 -1.743320  3.796275 -3.460768  0.003241\n",
       "959  1 -0.550741  1.052425  3.691472 -3.408550 -1.491923\n",
       "960  1 -0.792785 -1.308054  4.466270 -0.196903 -2.434020\n",
       "961  1 -1.643893 -1.257941  4.663310 -2.556895  0.401875\n",
       "\n",
       "[962 rows x 6 columns]"
      ]
     },
     "execution_count": 95,
     "metadata": {},
     "output_type": "execute_result"
    }
   ],
   "source": [
    "newpd = pd.DataFrame(d)\n",
    "newpd"
   ]
  },
  {
   "cell_type": "code",
   "execution_count": 108,
   "metadata": {},
   "outputs": [
    {
     "data": {
      "image/png": "[encoded data removed]",
      "text/plain": [
       "<Figure size 720x504 with 1 Axes>"
      ]
     },
     "metadata": {},
     "output_type": "display_data"
    }
   ],
   "source": [
    "import matplotlib.pyplot as plt\n",
    "\n",
    "fig = plt.figure(figsize =(10, 7))\n",
    "ax = fig.add_subplot(111)\n",
    "plt.boxplot(newpd[newpd[0] == 0][[1,2,3,4,5]])\n",
    "ax.set_xticklabels(['Mixed_feelings', 'Negative', 'Positive', 'not-Tam', 'unknown_state'])\n",
    "fig.suptitle('Homophobic')\n",
    "fig.savefig('../tam_figure/homophobic-sentiment.jpg')"
   ]
  },
  {
   "cell_type": "code",
   "execution_count": 109,
   "metadata": {},
   "outputs": [
    {
     "data": {
      "image/png": "[encoded data removed]",
      "text/plain": [
       "<Figure size 720x504 with 1 Axes>"
      ]
     },
     "metadata": {},
     "output_type": "display_data"
    }
   ],
   "source": [
    "fig = plt.figure(figsize =(10, 7))\n",
    "ax = fig.add_subplot(111)\n",
    "plt.boxplot(newpd[newpd[0] == 2][[1,2,3,4,5]])\n",
    "ax.set_xticklabels(['Mixed_feelings', 'Negative', 'Positive', 'not-Tam', 'unknown_state'])\n",
    "fig.suptitle('Transphobic')\n",
    "fig.savefig('../tam_figure/transphobic-sentiment.jpg')"
   ]
  },
  {
   "cell_type": "code",
   "execution_count": 110,
   "metadata": {},
   "outputs": [
    {
     "data": {
      "image/png": "[encoded data removed]",
      "text/plain": [
       "<Figure size 720x504 with 1 Axes>"
      ]
     },
     "metadata": {},
     "output_type": "display_data"
    }
   ],
   "source": [
    "fig = plt.figure(figsize =(10, 7))\n",
    "ax = fig.add_subplot(111)\n",
    "plt.boxplot(newpd[newpd[0] == 1][[1,2,3,4,5]])\n",
    "ax.set_xticklabels(['Mixed_feelings', 'Negative', 'Positive', 'not-Tam', 'unknown_state'])\n",
    "fig.suptitle('Non-anti-LGBT+ content')\n",
    "fig.savefig('../tam_figure/non-anti-LGBT+ content-sentiment.jpg')"
   ]
  },
  {
   "cell_type": "code",
   "execution_count": null,
   "metadata": {},
   "outputs": [],
   "source": []
  }
 ],
 "metadata": {
  "kernelspec": {
   "display_name": "nlp-venv",
   "language": "python",
   "name": "myenv"
  },
  "language_info": {
   "codemirror_mode": {
    "name": "ipython",
    "version": 3
   },
   "file_extension": ".py",
   "mimetype": "text/x-python",
   "name": "python",
   "nbconvert_exporter": "python",
   "pygments_lexer": "ipython3",
   "version": "3.6.9"
  },
  "orig_nbformat": 4
 },
 "nbformat": 4,
 "nbformat_minor": 2
}
