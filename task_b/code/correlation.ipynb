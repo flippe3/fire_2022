{
 "cells": [
  {
   "cell_type": "code",
   "execution_count": 1,
   "metadata": {},
   "outputs": [],
   "source": [
    "import torch\n",
    "from tqdm import tqdm\n",
    "from torch.utils.data import TensorDataset, DataLoader, RandomSampler, SequentialSampler\n",
    "import numpy as np\n",
    "from sklearn.metrics import classification_report\n",
    "from transformers import TOKENIZER_MAPPING, AutoModelForSequenceClassification, AutoTokenizer, AdamW, get_linear_schedule_with_warmup, XLMRobertaTokenizer, XLMRobertaForSequenceClassification\n",
    "import os\n",
    "from dataset import Dataset\n",
    "import pandas as pd"
   ]
  },
  {
   "cell_type": "code",
   "execution_count": 2,
   "metadata": {},
   "outputs": [
    {
     "name": "stdout",
     "output_type": "stream",
     "text": [
      "There are 1 GPU(s) available.\n",
      "We will use the GPU:Tesla V100-SXM2-32GB (cuda)\n"
     ]
    }
   ],
   "source": [
    "TOKENIZER_NAME = \"sentence-transformers/paraphrase-xlm-r-multilingual-v1\"\n",
    "MODEL_NAME = \"sentence-transformers/paraphrase-xlm-r-multilingual-v1\"\n",
    "LEARNING_RATE = 3e-5\n",
    "\n",
    "EPOCHS = 4\n",
    "BATCH_SIZE = 24 \n",
    "os.environ[\"CUDA_VISIBLE_DEVICES\"]=\"1\"\n",
    "\n",
    "if torch.cuda.is_available():    \n",
    "    device = torch.device(\"cuda\")\n",
    "    print('There are %d GPU(s) available.' % torch.cuda.device_count())    \n",
    "    print(f'We will use the GPU:{torch.cuda.get_device_name()} ({device})')\n",
    "\n",
    "else:\n",
    "    print('NO GPU AVAILABLE ERROR')\n",
    "    device = torch.device(\"cpu\")\n",
    "   \n",
    "tokenizer = AutoTokenizer.from_pretrained(TOKENIZER_NAME)\n",
    "model = AutoModelForSequenceClassification.from_pretrained(\"../../task_a/pickles_tam/\", num_labels=5, output_attentions=True)\n",
    "\n",
    "model.to(device)\n",
    "optimizer = AdamW(model.parameters(), lr = LEARNING_RATE, no_deprecation_warning=True)\n",
    "\n",
    "data = Dataset()\n",
    "#eng_train, eng_val, tam_train, tam_val, mal_train, mal_val, eng_tam_train, eng_tam_val\n",
    "_, _,datatrain, _, _, _, _, _ = data.get_phobia_dataset(tokenizer, balance=False)\n",
    "#_,_, kan_train_2022, _, _,_ = data.get_fire_2022_dataset(tokenizer, balance=False)\n",
    "\n",
    "train_dataloader = DataLoader(\n",
    "            datatrain,\n",
    "            sampler = RandomSampler(datatrain),\n",
    "            batch_size = BATCH_SIZE)\n",
    "\n",
    "total_steps = len(train_dataloader) * EPOCHS\n",
    "\n",
    "scheduler = get_linear_schedule_with_warmup(optimizer, \n",
    "                                            num_warmup_steps = 0,\n",
    "                                            num_training_steps = total_steps)\n"
   ]
  },
  {
   "cell_type": "code",
   "execution_count": 3,
   "metadata": {},
   "outputs": [],
   "source": [
    "def correlation_validation(model, tokenizer, device, BS=16):\n",
    "    vbar = tqdm(enumerate(train_dataloader), total=len(train_dataloader))\n",
    "\n",
    "    model.eval()\n",
    "    \n",
    "    true_labels = []\n",
    "    pred_labels = []\n",
    "    \n",
    "    # Label names: Index(['Mixed_feelings', 'Negative', 'Positive', 'not-Tamil', 'unknown_state']\n",
    "    # Label names: Index(['Homophobic', 'Non-anti-LGBT+ content', 'Transphobic']\n",
    "    datalist = []\n",
    "    for step, batch in vbar:\n",
    "        b_input_ids = batch[0].to(device)\n",
    "        b_masks = batch[1].to(device)\n",
    "        b_labels = batch[2].to(device)\n",
    "\n",
    "        with torch.no_grad(): \n",
    "            outputs = model(input_ids=b_input_ids, attention_mask=b_masks,\n",
    "                                            labels=b_labels)\n",
    "            probs = torch.softmax(outputs.logits, axis=1).detach().cpu().numpy().tolist() \n",
    "            logits = outputs.logits.detach().cpu().numpy().tolist()\n",
    "            label_ids = b_labels.to('cpu').numpy().tolist()\n",
    "            \n",
    "            true_labels.extend(label_ids)\n",
    "            \n",
    "            for i in range(len(logits)):\n",
    "                if probs[i][2] > probs[i][3]:\n",
    "                    datalist.append([label_ids[i], probs[i][0], probs[i][1], probs[i][2], probs[i][3], probs[i][4], 0])\n",
    "                else:\n",
    "                    datalist.append([label_ids[i], probs[i][0], probs[i][1], probs[i][2], probs[i][3], probs[i][4], 1])\n",
    "\n",
    "    model.train()\n",
    "    return datalist"
   ]
  },
  {
   "cell_type": "code",
   "execution_count": 4,
   "metadata": {},
   "outputs": [
    {
     "name": "stderr",
     "output_type": "stream",
     "text": [
      "100%|██████████| 73/73 [00:17<00:00,  4.23it/s]\n"
     ]
    }
   ],
   "source": [
    "d = correlation_validation(model, tokenizer, device)"
   ]
  },
  {
   "cell_type": "code",
   "execution_count": 5,
   "metadata": {},
   "outputs": [
    {
     "data": {
      "text/html": [
       "<div>\n",
       "<style scoped>\n",
       "    .dataframe tbody tr th:only-of-type {\n",
       "        vertical-align: middle;\n",
       "    }\n",
       "\n",
       "    .dataframe tbody tr th {\n",
       "        vertical-align: top;\n",
       "    }\n",
       "\n",
       "    .dataframe thead th {\n",
       "        text-align: right;\n",
       "    }\n",
       "</style>\n",
       "<table border=\"1\" class=\"dataframe\">\n",
       "  <thead>\n",
       "    <tr style=\"text-align: right;\">\n",
       "      <th></th>\n",
       "      <th>0</th>\n",
       "      <th>1</th>\n",
       "      <th>2</th>\n",
       "      <th>3</th>\n",
       "      <th>4</th>\n",
       "      <th>5</th>\n",
       "      <th>6</th>\n",
       "    </tr>\n",
       "  </thead>\n",
       "  <tbody>\n",
       "    <tr>\n",
       "      <th>0</th>\n",
       "      <td>1</td>\n",
       "      <td>0.001743</td>\n",
       "      <td>0.000927</td>\n",
       "      <td>0.982878</td>\n",
       "      <td>0.000386</td>\n",
       "      <td>0.014067</td>\n",
       "      <td>0</td>\n",
       "    </tr>\n",
       "    <tr>\n",
       "      <th>1</th>\n",
       "      <td>1</td>\n",
       "      <td>0.436941</td>\n",
       "      <td>0.161424</td>\n",
       "      <td>0.148332</td>\n",
       "      <td>0.000852</td>\n",
       "      <td>0.252451</td>\n",
       "      <td>0</td>\n",
       "    </tr>\n",
       "    <tr>\n",
       "      <th>2</th>\n",
       "      <td>0</td>\n",
       "      <td>0.837612</td>\n",
       "      <td>0.105739</td>\n",
       "      <td>0.026114</td>\n",
       "      <td>0.001101</td>\n",
       "      <td>0.029434</td>\n",
       "      <td>0</td>\n",
       "    </tr>\n",
       "    <tr>\n",
       "      <th>3</th>\n",
       "      <td>0</td>\n",
       "      <td>0.206025</td>\n",
       "      <td>0.005352</td>\n",
       "      <td>0.277507</td>\n",
       "      <td>0.000689</td>\n",
       "      <td>0.510428</td>\n",
       "      <td>0</td>\n",
       "    </tr>\n",
       "    <tr>\n",
       "      <th>4</th>\n",
       "      <td>0</td>\n",
       "      <td>0.938200</td>\n",
       "      <td>0.026866</td>\n",
       "      <td>0.006948</td>\n",
       "      <td>0.001514</td>\n",
       "      <td>0.026472</td>\n",
       "      <td>0</td>\n",
       "    </tr>\n",
       "    <tr>\n",
       "      <th>...</th>\n",
       "      <td>...</td>\n",
       "      <td>...</td>\n",
       "      <td>...</td>\n",
       "      <td>...</td>\n",
       "      <td>...</td>\n",
       "      <td>...</td>\n",
       "      <td>...</td>\n",
       "    </tr>\n",
       "    <tr>\n",
       "      <th>1745</th>\n",
       "      <td>1</td>\n",
       "      <td>0.006969</td>\n",
       "      <td>0.002030</td>\n",
       "      <td>0.979069</td>\n",
       "      <td>0.001601</td>\n",
       "      <td>0.010330</td>\n",
       "      <td>0</td>\n",
       "    </tr>\n",
       "    <tr>\n",
       "      <th>1746</th>\n",
       "      <td>1</td>\n",
       "      <td>0.019137</td>\n",
       "      <td>0.002751</td>\n",
       "      <td>0.940119</td>\n",
       "      <td>0.000235</td>\n",
       "      <td>0.037758</td>\n",
       "      <td>0</td>\n",
       "    </tr>\n",
       "    <tr>\n",
       "      <th>1747</th>\n",
       "      <td>1</td>\n",
       "      <td>0.004423</td>\n",
       "      <td>0.000706</td>\n",
       "      <td>0.970723</td>\n",
       "      <td>0.004667</td>\n",
       "      <td>0.019481</td>\n",
       "      <td>0</td>\n",
       "    </tr>\n",
       "    <tr>\n",
       "      <th>1748</th>\n",
       "      <td>1</td>\n",
       "      <td>0.006446</td>\n",
       "      <td>0.016702</td>\n",
       "      <td>0.007350</td>\n",
       "      <td>0.003177</td>\n",
       "      <td>0.966325</td>\n",
       "      <td>0</td>\n",
       "    </tr>\n",
       "    <tr>\n",
       "      <th>1749</th>\n",
       "      <td>2</td>\n",
       "      <td>0.059347</td>\n",
       "      <td>0.595364</td>\n",
       "      <td>0.283738</td>\n",
       "      <td>0.000548</td>\n",
       "      <td>0.061003</td>\n",
       "      <td>0</td>\n",
       "    </tr>\n",
       "  </tbody>\n",
       "</table>\n",
       "<p>1750 rows × 7 columns</p>\n",
       "</div>"
      ],
      "text/plain": [
       "      0         1         2         3         4         5  6\n",
       "0     1  0.001743  0.000927  0.982878  0.000386  0.014067  0\n",
       "1     1  0.436941  0.161424  0.148332  0.000852  0.252451  0\n",
       "2     0  0.837612  0.105739  0.026114  0.001101  0.029434  0\n",
       "3     0  0.206025  0.005352  0.277507  0.000689  0.510428  0\n",
       "4     0  0.938200  0.026866  0.006948  0.001514  0.026472  0\n",
       "...  ..       ...       ...       ...       ...       ... ..\n",
       "1745  1  0.006969  0.002030  0.979069  0.001601  0.010330  0\n",
       "1746  1  0.019137  0.002751  0.940119  0.000235  0.037758  0\n",
       "1747  1  0.004423  0.000706  0.970723  0.004667  0.019481  0\n",
       "1748  1  0.006446  0.016702  0.007350  0.003177  0.966325  0\n",
       "1749  2  0.059347  0.595364  0.283738  0.000548  0.061003  0\n",
       "\n",
       "[1750 rows x 7 columns]"
      ]
     },
     "execution_count": 5,
     "metadata": {},
     "output_type": "execute_result"
    }
   ],
   "source": [
    "newpd = pd.DataFrame(d)\n",
    "newpd"
   ]
  },
  {
   "cell_type": "code",
   "execution_count": 13,
   "metadata": {},
   "outputs": [
    {
     "name": "stdout",
     "output_type": "stream",
     "text": [
      "TAMIL NEGATIVE SENTIMENT non homophobic vs homophobicTtest_indResult(statistic=5.692608483835361, pvalue=1.4778816000689864e-08)\n",
      "TAMIL POSITIVE SENTIMENT non homophobic vs homophobicTtest_indResult(statistic=-12.673140660495015, pvalue=3.42434912790214e-35)\n",
      "TAMIL MIXED SENTIMENT non homophobic vs homophobicTtest_indResult(statistic=12.226293166384643, pvalue=5.71826896581604e-33)\n"
     ]
    }
   ],
   "source": [
    "from scipy.stats import ttest_ind\n",
    "print(f\"TAMIL NEGATIVE SENTIMENT non homophobic vs homophobic{ttest_ind(newpd[newpd[0]==0][2], newpd[newpd[0]==1][2])}\")\n",
    "print(f\"TAMIL POSITIVE SENTIMENT non homophobic vs homophobic{ttest_ind(newpd[newpd[0]==0][3], newpd[newpd[0]==1][3])}\")\n",
    "print(f\"TAMIL MIXED SENTIMENT non homophobic vs homophobic{ttest_ind(newpd[newpd[0]==0][1], newpd[newpd[0]==1][1])}\")"
   ]
  },
  {
   "cell_type": "code",
   "execution_count": 7,
   "metadata": {},
   "outputs": [
    {
     "data": {
      "text/plain": [
       "0  1         2         3         4         5         6\n",
       "1  0.421857  0.004467  0.350260  0.003318  0.220099  0    2\n",
       "   0.926473  0.009841  0.035570  0.000711  0.027404  0    1\n",
       "   0.013587  0.014769  0.777000  0.000332  0.194313  0    1\n",
       "   0.013399  0.005280  0.869078  0.002344  0.109899  0    1\n",
       "   0.013414  0.006223  0.145877  0.000844  0.833642  0    1\n",
       "                                                         ..\n",
       "   0.111456  0.001722  0.662145  0.007274  0.217404  0    1\n",
       "   0.112921  0.030405  0.074071  0.005378  0.777225  0    1\n",
       "   0.113452  0.004544  0.069859  0.006196  0.805949  0    1\n",
       "   0.113861  0.011379  0.366669  0.000484  0.507607  0    1\n",
       "   0.000885  0.002895  0.003363  0.039725  0.953133  1    1\n",
       "Length: 1337, dtype: int64"
      ]
     },
     "execution_count": 7,
     "metadata": {},
     "output_type": "execute_result"
    }
   ],
   "source": [
    "newpd[newpd[0]==1].value_counts()"
   ]
  },
  {
   "cell_type": "code",
   "execution_count": 8,
   "metadata": {},
   "outputs": [
    {
     "data": {
      "text/html": [
       "<div>\n",
       "<style scoped>\n",
       "    .dataframe tbody tr th:only-of-type {\n",
       "        vertical-align: middle;\n",
       "    }\n",
       "\n",
       "    .dataframe tbody tr th {\n",
       "        vertical-align: top;\n",
       "    }\n",
       "\n",
       "    .dataframe thead th {\n",
       "        text-align: right;\n",
       "    }\n",
       "</style>\n",
       "<table border=\"1\" class=\"dataframe\">\n",
       "  <thead>\n",
       "    <tr style=\"text-align: right;\">\n",
       "      <th></th>\n",
       "      <th>0</th>\n",
       "      <th>6</th>\n",
       "    </tr>\n",
       "  </thead>\n",
       "  <tbody>\n",
       "    <tr>\n",
       "      <th>0</th>\n",
       "      <td>1</td>\n",
       "      <td>0</td>\n",
       "    </tr>\n",
       "    <tr>\n",
       "      <th>1</th>\n",
       "      <td>1</td>\n",
       "      <td>0</td>\n",
       "    </tr>\n",
       "    <tr>\n",
       "      <th>2</th>\n",
       "      <td>0</td>\n",
       "      <td>0</td>\n",
       "    </tr>\n",
       "    <tr>\n",
       "      <th>3</th>\n",
       "      <td>0</td>\n",
       "      <td>0</td>\n",
       "    </tr>\n",
       "    <tr>\n",
       "      <th>4</th>\n",
       "      <td>0</td>\n",
       "      <td>0</td>\n",
       "    </tr>\n",
       "    <tr>\n",
       "      <th>...</th>\n",
       "      <td>...</td>\n",
       "      <td>...</td>\n",
       "    </tr>\n",
       "    <tr>\n",
       "      <th>1745</th>\n",
       "      <td>1</td>\n",
       "      <td>0</td>\n",
       "    </tr>\n",
       "    <tr>\n",
       "      <th>1746</th>\n",
       "      <td>1</td>\n",
       "      <td>0</td>\n",
       "    </tr>\n",
       "    <tr>\n",
       "      <th>1747</th>\n",
       "      <td>1</td>\n",
       "      <td>0</td>\n",
       "    </tr>\n",
       "    <tr>\n",
       "      <th>1748</th>\n",
       "      <td>1</td>\n",
       "      <td>0</td>\n",
       "    </tr>\n",
       "    <tr>\n",
       "      <th>1749</th>\n",
       "      <td>2</td>\n",
       "      <td>0</td>\n",
       "    </tr>\n",
       "  </tbody>\n",
       "</table>\n",
       "<p>1750 rows × 2 columns</p>\n",
       "</div>"
      ],
      "text/plain": [
       "      0  6\n",
       "0     1  0\n",
       "1     1  0\n",
       "2     0  0\n",
       "3     0  0\n",
       "4     0  0\n",
       "...  .. ..\n",
       "1745  1  0\n",
       "1746  1  0\n",
       "1747  1  0\n",
       "1748  1  0\n",
       "1749  2  0\n",
       "\n",
       "[1750 rows x 2 columns]"
      ]
     },
     "execution_count": 8,
     "metadata": {},
     "output_type": "execute_result"
    }
   ],
   "source": [
    "corr = newpd[[0,6]]\n",
    "corr"
   ]
  },
  {
   "cell_type": "code",
   "execution_count": 9,
   "metadata": {},
   "outputs": [
    {
     "data": {
      "text/html": [
       "<div>\n",
       "<style scoped>\n",
       "    .dataframe tbody tr th:only-of-type {\n",
       "        vertical-align: middle;\n",
       "    }\n",
       "\n",
       "    .dataframe tbody tr th {\n",
       "        vertical-align: top;\n",
       "    }\n",
       "\n",
       "    .dataframe thead th {\n",
       "        text-align: right;\n",
       "    }\n",
       "</style>\n",
       "<table border=\"1\" class=\"dataframe\">\n",
       "  <thead>\n",
       "    <tr style=\"text-align: right;\">\n",
       "      <th></th>\n",
       "      <th>0</th>\n",
       "      <th>6</th>\n",
       "    </tr>\n",
       "  </thead>\n",
       "  <tbody>\n",
       "    <tr>\n",
       "      <th>0</th>\n",
       "      <td>1.000000</td>\n",
       "      <td>0.027759</td>\n",
       "    </tr>\n",
       "    <tr>\n",
       "      <th>6</th>\n",
       "      <td>0.027759</td>\n",
       "      <td>1.000000</td>\n",
       "    </tr>\n",
       "  </tbody>\n",
       "</table>\n",
       "</div>"
      ],
      "text/plain": [
       "          0         6\n",
       "0  1.000000  0.027759\n",
       "6  0.027759  1.000000"
      ]
     },
     "execution_count": 9,
     "metadata": {},
     "output_type": "execute_result"
    }
   ],
   "source": [
    "from scipy.stats import ttest_ind\n",
    "corr.corr(method='pearson')"
   ]
  },
  {
   "cell_type": "code",
   "execution_count": 10,
   "metadata": {},
   "outputs": [
    {
     "data": {
      "image/png": "[encoded data removed]",
      "text/plain": [
       "<Figure size 720x504 with 1 Axes>"
      ]
     },
     "metadata": {},
     "output_type": "display_data"
    }
   ],
   "source": [
    "import matplotlib.pyplot as plt\n",
    "\n",
    "homo = newpd[newpd[0]==0][2]\n",
    "non = newpd[newpd[0]==1][2]\n",
    "trans = newpd[newpd[0]==2][2] \n",
    "\n",
    "fig = plt.figure(figsize =(10, 7))\n",
    "ax = fig.add_subplot(111)\n",
    "plt.boxplot([homo,non,trans])\n",
    "fig.suptitle('Negative sentiment')\n",
    "ax.set_xticklabels(['Homophobic', 'Non-anti-LGBT+', 'Transphobic'])\n",
    "fig.savefig('negative-sentiment-tam.jpg')"
   ]
  },
  {
   "cell_type": "code",
   "execution_count": 11,
   "metadata": {},
   "outputs": [
    {
     "data": {
      "image/png": "[encoded data removed]",
      "text/plain": [
       "<Figure size 720x504 with 1 Axes>"
      ]
     },
     "metadata": {},
     "output_type": "display_data"
    }
   ],
   "source": [
    "homo = newpd[newpd[0]==0][3]\n",
    "non = newpd[newpd[0]==1][3]\n",
    "trans = newpd[newpd[0]==2][3] \n",
    "\n",
    "fig = plt.figure(figsize =(10, 7))\n",
    "ax = fig.add_subplot(111)\n",
    "plt.boxplot([homo,non,trans])\n",
    "fig.suptitle('Positive sentiment')\n",
    "ax.set_xticklabels(['Homophobic', 'Non-anti-LGBT+', 'Transphobic'])\n",
    "fig.savefig('positive-sentiment-tam.jpg')"
   ]
  },
  {
   "cell_type": "code",
   "execution_count": 12,
   "metadata": {},
   "outputs": [
    {
     "data": {
      "image/png": "[encoded data removed]",
      "text/plain": [
       "<Figure size 720x504 with 1 Axes>"
      ]
     },
     "metadata": {},
     "output_type": "display_data"
    }
   ],
   "source": [
    "homo = newpd[newpd[0]==0][1]\n",
    "non = newpd[newpd[0]==1][1]\n",
    "trans = newpd[newpd[0]==2][1] \n",
    "\n",
    "fig = plt.figure(figsize =(10, 7))\n",
    "ax = fig.add_subplot(111)\n",
    "plt.boxplot([homo,non,trans])\n",
    "fig.suptitle('Mixed Feelings sentiment')\n",
    "ax.set_xticklabels(['Homophobic', 'Non-anti-LGBT+', 'Transphobic'])\n",
    "fig.savefig('mixed_feelings-sentiment-tam.jpg')"
   ]
  },
  {
   "cell_type": "code",
   "execution_count": null,
   "metadata": {},
   "outputs": [],
   "source": []
  }
 ],
 "metadata": {
  "kernelspec": {
   "display_name": "nlp-venv",
   "language": "python",
   "name": "myenv"
  },
  "language_info": {
   "codemirror_mode": {
    "name": "ipython",
    "version": 3
   },
   "file_extension": ".py",
   "mimetype": "text/x-python",
   "name": "python",
   "nbconvert_exporter": "python",
   "pygments_lexer": "ipython3",
   "version": "3.6.9"
  },
  "orig_nbformat": 4
 },
 "nbformat": 4,
 "nbformat_minor": 2
}
