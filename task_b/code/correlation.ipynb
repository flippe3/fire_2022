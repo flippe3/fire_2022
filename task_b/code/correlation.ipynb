{
 "cells": [
  {
   "cell_type": "code",
   "execution_count": 1,
   "metadata": {},
   "outputs": [],
   "source": [
    "import torch\n",
    "from tqdm import tqdm\n",
    "from torch.utils.data import TensorDataset, DataLoader, RandomSampler, SequentialSampler\n",
    "import numpy as np\n",
    "from sklearn.metrics import classification_report\n",
    "from transformers import TOKENIZER_MAPPING, AutoModelForSequenceClassification, AutoTokenizer, AdamW, get_linear_schedule_with_warmup, XLMRobertaTokenizer, XLMRobertaForSequenceClassification\n",
    "import os\n",
    "from dataset import Dataset\n",
    "import pandas as pd"
   ]
  },
  {
   "cell_type": "code",
   "execution_count": 2,
   "metadata": {},
   "outputs": [
    {
     "name": "stdout",
     "output_type": "stream",
     "text": [
      "There are 1 GPU(s) available.\n",
      "We will use the GPU:Tesla V100-SXM2-32GB (cuda)\n",
      "Texts: 3128\n",
      "Label names: Index(['Homophobic', 'Non-anti-LGBT+ content', 'Transphobic'], dtype='object')\n",
      "Texts: 790\n",
      "Label names: Index(['Homophobic', 'Non-anti-LGBT+ content', 'Transphobic'], dtype='object')\n",
      "Texts: 1750\n",
      "Label names: Index(['Homophobic', 'Non-anti-LGBT+ content', 'Transphobic'], dtype='object')\n",
      "Texts: 621\n",
      "Label names: Index(['Homophobic', 'Non-anti-LGBT+ content', 'Transphobic'], dtype='object')\n",
      "Texts: 2521\n",
      "Label names: Index(['Homophobic', 'Non-anti-LGBT+ content', 'Transphobic'], dtype='object')\n",
      "Texts: 837\n",
      "Label names: Index(['Homophobic', 'Non-anti-LGBT+ content', 'Transphobic'], dtype='object')\n",
      "Texts: 3807\n",
      "Label names: Index(['Homophobic', 'Non-anti-LGBT+ content', 'Transphobic'], dtype='object')\n",
      "Texts: 962\n",
      "Label names: Index(['Homophobic', 'Non-anti-LGBT+ content', 'Transphobic'], dtype='object')\n"
     ]
    }
   ],
   "source": [
    "TOKENIZER_NAME = \"sentence-transformers/paraphrase-xlm-r-multilingual-v1\"\n",
    "MODEL_NAME = \"sentence-transformers/paraphrase-xlm-r-multilingual-v1\"\n",
    "LEARNING_RATE = 3e-5\n",
    "\n",
    "EPOCHS = 4\n",
    "BATCH_SIZE = 24 \n",
    "os.environ[\"CUDA_VISIBLE_DEVICES\"]=\"1\"\n",
    "\n",
    "if torch.cuda.is_available():    \n",
    "    device = torch.device(\"cuda\")\n",
    "    print('There are %d GPU(s) available.' % torch.cuda.device_count())    \n",
    "    print(f'We will use the GPU:{torch.cuda.get_device_name()} ({device})')\n",
    "\n",
    "else:\n",
    "    print('NO GPU AVAILABLE ERROR')\n",
    "    device = torch.device(\"cpu\")\n",
    "   \n",
    "tokenizer = AutoTokenizer.from_pretrained(TOKENIZER_NAME)\n",
    "model = AutoModelForSequenceClassification.from_pretrained(\"../../task_a/pickles_tam/\", num_labels=5, output_attentions=True)\n",
    "\n",
    "model.to(device)\n",
    "optimizer = AdamW(model.parameters(), lr = LEARNING_RATE, no_deprecation_warning=True)\n",
    "\n",
    "data = Dataset()\n",
    "#eng_train, eng_val, tam_train, tam_val, mal_train, mal_val, eng_tam_train, eng_tam_val\n",
    "_, _, _, _, _, _, datatrain, _ = data.get_phobia_dataset(tokenizer, balance=False)\n",
    "#_,_, kan_train_2022, _, _,_ = data.get_fire_2022_dataset(tokenizer, balance=False)\n",
    "\n",
    "train_dataloader = DataLoader(\n",
    "            datatrain,\n",
    "            sampler = RandomSampler(datatrain),\n",
    "            batch_size = BATCH_SIZE)\n",
    "\n",
    "total_steps = len(train_dataloader) * EPOCHS\n",
    "\n",
    "scheduler = get_linear_schedule_with_warmup(optimizer, \n",
    "                                            num_warmup_steps = 0,\n",
    "                                            num_training_steps = total_steps)\n"
   ]
  },
  {
   "cell_type": "code",
   "execution_count": 3,
   "metadata": {},
   "outputs": [],
   "source": [
    "def correlation_validation(model, tokenizer, device, BS=16):\n",
    "    vbar = tqdm(enumerate(train_dataloader), total=len(train_dataloader))\n",
    "\n",
    "    model.eval()\n",
    "    \n",
    "    true_labels = []\n",
    "    pred_labels = []\n",
    "    \n",
    "    # Label names: Index(['Mixed_feelings', 'Negative', 'Positive', 'not-Tamil', 'unknown_state']\n",
    "    # Label names: Index(['Homophobic', 'Non-anti-LGBT+ content', 'Transphobic']\n",
    "    datalist = []\n",
    "    for step, batch in vbar:\n",
    "        b_input_ids = batch[0].to(device)\n",
    "        b_masks = batch[1].to(device)\n",
    "        b_labels = batch[2].to(device)\n",
    "\n",
    "        with torch.no_grad(): \n",
    "            outputs = model(input_ids=b_input_ids, attention_mask=b_masks,\n",
    "                                            labels=b_labels)\n",
    "            \n",
    "            logits = outputs.logits.detach().cpu().numpy().tolist()\n",
    "            label_ids = b_labels.to('cpu').numpy().tolist()\n",
    "            \n",
    "            true_labels.extend(label_ids)\n",
    "            \n",
    "            for i in range(len(logits)):\n",
    "                datalist.append([label_ids[i], logits[i][0], logits[i][1], logits[i][2], logits[i][3], logits[i][4]])\n",
    "            \n",
    "    model.train()\n",
    "    return datalist"
   ]
  },
  {
   "cell_type": "code",
   "execution_count": 4,
   "metadata": {},
   "outputs": [
    {
     "name": "stderr",
     "output_type": "stream",
     "text": [
      "100%|██████████| 106/106 [00:25<00:00,  4.22it/s]\n"
     ]
    }
   ],
   "source": [
    "d = correlation_validation(model, tokenizer, device)"
   ]
  },
  {
   "cell_type": "code",
   "execution_count": 5,
   "metadata": {},
   "outputs": [
    {
     "data": {
      "text/html": [
       "<div>\n",
       "<style scoped>\n",
       "    .dataframe tbody tr th:only-of-type {\n",
       "        vertical-align: middle;\n",
       "    }\n",
       "\n",
       "    .dataframe tbody tr th {\n",
       "        vertical-align: top;\n",
       "    }\n",
       "\n",
       "    .dataframe thead th {\n",
       "        text-align: right;\n",
       "    }\n",
       "</style>\n",
       "<table border=\"1\" class=\"dataframe\">\n",
       "  <thead>\n",
       "    <tr style=\"text-align: right;\">\n",
       "      <th></th>\n",
       "      <th>0</th>\n",
       "      <th>1</th>\n",
       "      <th>2</th>\n",
       "      <th>3</th>\n",
       "      <th>4</th>\n",
       "      <th>5</th>\n",
       "    </tr>\n",
       "  </thead>\n",
       "  <tbody>\n",
       "    <tr>\n",
       "      <th>0</th>\n",
       "      <td>1</td>\n",
       "      <td>-2.339460</td>\n",
       "      <td>-2.029053</td>\n",
       "      <td>1.039456</td>\n",
       "      <td>-1.697038</td>\n",
       "      <td>4.766128</td>\n",
       "    </tr>\n",
       "    <tr>\n",
       "      <th>1</th>\n",
       "      <td>1</td>\n",
       "      <td>-1.238727</td>\n",
       "      <td>1.490743</td>\n",
       "      <td>0.187529</td>\n",
       "      <td>-3.669878</td>\n",
       "      <td>3.303554</td>\n",
       "    </tr>\n",
       "    <tr>\n",
       "      <th>2</th>\n",
       "      <td>1</td>\n",
       "      <td>-1.251320</td>\n",
       "      <td>-0.783724</td>\n",
       "      <td>-1.799385</td>\n",
       "      <td>-1.220399</td>\n",
       "      <td>5.060927</td>\n",
       "    </tr>\n",
       "    <tr>\n",
       "      <th>3</th>\n",
       "      <td>1</td>\n",
       "      <td>-1.997528</td>\n",
       "      <td>-1.018006</td>\n",
       "      <td>1.004964</td>\n",
       "      <td>-3.231004</td>\n",
       "      <td>4.842920</td>\n",
       "    </tr>\n",
       "    <tr>\n",
       "      <th>4</th>\n",
       "      <td>1</td>\n",
       "      <td>3.714198</td>\n",
       "      <td>0.204241</td>\n",
       "      <td>-1.412606</td>\n",
       "      <td>0.597696</td>\n",
       "      <td>-2.716993</td>\n",
       "    </tr>\n",
       "    <tr>\n",
       "      <th>...</th>\n",
       "      <td>...</td>\n",
       "      <td>...</td>\n",
       "      <td>...</td>\n",
       "      <td>...</td>\n",
       "      <td>...</td>\n",
       "      <td>...</td>\n",
       "    </tr>\n",
       "    <tr>\n",
       "      <th>2516</th>\n",
       "      <td>1</td>\n",
       "      <td>3.637925</td>\n",
       "      <td>0.766754</td>\n",
       "      <td>-0.707633</td>\n",
       "      <td>-1.835976</td>\n",
       "      <td>-1.547891</td>\n",
       "    </tr>\n",
       "    <tr>\n",
       "      <th>2517</th>\n",
       "      <td>1</td>\n",
       "      <td>1.501942</td>\n",
       "      <td>0.173960</td>\n",
       "      <td>-1.313324</td>\n",
       "      <td>-2.327644</td>\n",
       "      <td>1.988571</td>\n",
       "    </tr>\n",
       "    <tr>\n",
       "      <th>2518</th>\n",
       "      <td>1</td>\n",
       "      <td>-1.769181</td>\n",
       "      <td>-1.312614</td>\n",
       "      <td>2.259285</td>\n",
       "      <td>-2.476409</td>\n",
       "      <td>2.879371</td>\n",
       "    </tr>\n",
       "    <tr>\n",
       "      <th>2519</th>\n",
       "      <td>1</td>\n",
       "      <td>-1.235784</td>\n",
       "      <td>1.005455</td>\n",
       "      <td>3.217573</td>\n",
       "      <td>-4.683944</td>\n",
       "      <td>1.136511</td>\n",
       "    </tr>\n",
       "    <tr>\n",
       "      <th>2520</th>\n",
       "      <td>1</td>\n",
       "      <td>-1.316504</td>\n",
       "      <td>-1.767963</td>\n",
       "      <td>5.449768</td>\n",
       "      <td>-3.005203</td>\n",
       "      <td>-0.255560</td>\n",
       "    </tr>\n",
       "  </tbody>\n",
       "</table>\n",
       "<p>2521 rows × 6 columns</p>\n",
       "</div>"
      ],
      "text/plain": [
       "      0         1         2         3         4         5\n",
       "0     1 -2.339460 -2.029053  1.039456 -1.697038  4.766128\n",
       "1     1 -1.238727  1.490743  0.187529 -3.669878  3.303554\n",
       "2     1 -1.251320 -0.783724 -1.799385 -1.220399  5.060927\n",
       "3     1 -1.997528 -1.018006  1.004964 -3.231004  4.842920\n",
       "4     1  3.714198  0.204241 -1.412606  0.597696 -2.716993\n",
       "...  ..       ...       ...       ...       ...       ...\n",
       "2516  1  3.637925  0.766754 -0.707633 -1.835976 -1.547891\n",
       "2517  1  1.501942  0.173960 -1.313324 -2.327644  1.988571\n",
       "2518  1 -1.769181 -1.312614  2.259285 -2.476409  2.879371\n",
       "2519  1 -1.235784  1.005455  3.217573 -4.683944  1.136511\n",
       "2520  1 -1.316504 -1.767963  5.449768 -3.005203 -0.255560\n",
       "\n",
       "[2521 rows x 6 columns]"
      ]
     },
     "execution_count": 5,
     "metadata": {},
     "output_type": "execute_result"
    }
   ],
   "source": [
    "newpd = pd.DataFrame(d)\n",
    "newpd"
   ]
  },
  {
   "cell_type": "code",
   "execution_count": 6,
   "metadata": {},
   "outputs": [
    {
     "data": {
      "image/png": "[encoded data removed]",
      "text/plain": [
       "<Figure size 720x504 with 1 Axes>"
      ]
     },
     "metadata": {},
     "output_type": "display_data"
    }
   ],
   "source": [
    "import matplotlib.pyplot as plt\n",
    "\n",
    "homo = newpd[newpd[0]==0][2]\n",
    "non = newpd[newpd[0]==1][2]\n",
    "trans = newpd[newpd[0]==2][2] \n",
    "\n",
    "fig = plt.figure(figsize =(10, 7))\n",
    "ax = fig.add_subplot(111)\n",
    "plt.boxplot([homo,non,trans])\n",
    "fig.suptitle('Negative sentiment')\n",
    "ax.set_xticklabels(['Homophobic', 'Non-anti-LGBT+', 'Transphobic'])\n",
    "fig.savefig('negative-sentiment-tam-eng.jpg')"
   ]
  },
  {
   "cell_type": "code",
   "execution_count": 7,
   "metadata": {},
   "outputs": [
    {
     "data": {
      "image/png": "[encoded data removed]",
      "text/plain": [
       "<Figure size 720x504 with 1 Axes>"
      ]
     },
     "metadata": {},
     "output_type": "display_data"
    }
   ],
   "source": [
    "homo = newpd[newpd[0]==0][3]\n",
    "non = newpd[newpd[0]==1][3]\n",
    "trans = newpd[newpd[0]==2][3] \n",
    "\n",
    "fig = plt.figure(figsize =(10, 7))\n",
    "ax = fig.add_subplot(111)\n",
    "plt.boxplot([homo,non,trans])\n",
    "fig.suptitle('Positive sentiment')\n",
    "ax.set_xticklabels(['Homophobic', 'Non-anti-LGBT+', 'Transphobic'])\n",
    "fig.savefig('positive-sentiment-tam-eng.jpg')"
   ]
  },
  {
   "cell_type": "code",
   "execution_count": 8,
   "metadata": {},
   "outputs": [
    {
     "data": {
      "image/png": "[encoded data removed]",
      "text/plain": [
       "<Figure size 720x504 with 1 Axes>"
      ]
     },
     "metadata": {},
     "output_type": "display_data"
    }
   ],
   "source": [
    "homo = newpd[newpd[0]==0][1]\n",
    "non = newpd[newpd[0]==1][1]\n",
    "trans = newpd[newpd[0]==2][1] \n",
    "\n",
    "fig = plt.figure(figsize =(10, 7))\n",
    "ax = fig.add_subplot(111)\n",
    "plt.boxplot([homo,non,trans])\n",
    "fig.suptitle('Mixed Feelings sentiment')\n",
    "ax.set_xticklabels(['Homophobic', 'Non-anti-LGBT+', 'Transphobic'])\n",
    "fig.savefig('mixed_feelings-sentiment-tam-eng.jpg')"
   ]
  }
 ],
 "metadata": {
  "kernelspec": {
   "display_name": "nlp-venv",
   "language": "python",
   "name": "myenv"
  },
  "language_info": {
   "codemirror_mode": {
    "name": "ipython",
    "version": 3
   },
   "file_extension": ".py",
   "mimetype": "text/x-python",
   "name": "python",
   "nbconvert_exporter": "python",
   "pygments_lexer": "ipython3",
   "version": "3.6.9"
  },
  "orig_nbformat": 4
 },
 "nbformat": 4,
 "nbformat_minor": 2
}
