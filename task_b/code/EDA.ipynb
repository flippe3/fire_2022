{
 "cells": [
  {
   "cell_type": "code",
   "execution_count": 8,
   "metadata": {},
   "outputs": [],
   "source": [
    "import pandas as pd\n",
    "import matplotlib.pyplot as plt"
   ]
  },
  {
   "cell_type": "code",
   "execution_count": 9,
   "metadata": {},
   "outputs": [],
   "source": [
    "eng_train = pd.read_csv(\"../data/eng_3_train.tsv\",\"\\t\")\n",
    "eng_dev = pd.read_csv(\"../data/eng_3_dev.tsv\",\"\\t\")\n",
    "\n",
    "mal_train = pd.read_csv(\"../data/mal_3_train.csv\")\n",
    "mal_dev = pd.read_csv(\"../data/mal_3_dev.csv\")\n",
    "\n",
    "tam_train = pd.read_csv(\"../data/tam_3_train.tsv\",\"\\t\")\n",
    "tam_dev = pd.read_csv(\"../data/tam_3_dev.tsv\",\"\\t\")\n",
    "\n",
    "eng_tam_train = pd.read_csv(\"../data/eng-tam_3_train.tsv\",\"\\t\")\n",
    "eng_tam_dev = pd.read_csv(\"../data/eng-tam_3_dev.tsv\",\"\\t\")"
   ]
  },
  {
   "cell_type": "code",
   "execution_count": 3,
   "metadata": {},
   "outputs": [
    {
     "data": {
      "text/plain": [
       "Index(['category', 'text', 'Unnamed: 2', 'Unnamed: 3', 'Unnamed: 4',\n",
       "       'Unnamed: 5', 'Unnamed: 6', 'Unnamed: 7', 'Unnamed: 8', 'Unnamed: 9',\n",
       "       'Unnamed: 10', 'Unnamed: 11', 'Unnamed: 12', 'Unnamed: 13',\n",
       "       'Unnamed: 14', 'Unnamed: 15', 'Unnamed: 16', 'Unnamed: 17'],\n",
       "      dtype='object')"
      ]
     },
     "execution_count": 3,
     "metadata": {},
     "output_type": "execute_result"
    }
   ],
   "source": [
    "eng_train.columns"
   ]
  },
  {
   "cell_type": "code",
   "execution_count": 13,
   "metadata": {},
   "outputs": [
    {
     "name": "stdout",
     "output_type": "stream",
     "text": [
      "270\n"
     ]
    }
   ],
   "source": [
    "tam_train_duplicates = 0\n",
    "for i in mal_train.text:\n",
    "    for j in mal_dev.text:\n",
    "        if i == j:\n",
    "            tam_train_duplicates += 1\n",
    "            break\n",
    "print(tam_train_duplicates)"
   ]
  },
  {
   "cell_type": "code",
   "execution_count": 5,
   "metadata": {},
   "outputs": [
    {
     "data": {
      "text/plain": [
       "'Bro u name and phone number (or)mobile number please kotuinga            '"
      ]
     },
     "execution_count": 5,
     "metadata": {},
     "output_type": "execute_result"
    }
   ],
   "source": [
    "#eng_train = eng_train.dropna(subset=['category', 'text'\n",
    "eng_train.text.values[2]"
   ]
  },
  {
   "cell_type": "markdown",
   "metadata": {},
   "source": [
    "## English"
   ]
  },
  {
   "cell_type": "code",
   "execution_count": 18,
   "metadata": {},
   "outputs": [
    {
     "name": "stdout",
     "output_type": "stream",
     "text": [
      "Non-anti-LGBT+ content    3001\n",
      "Homophobic                 157\n",
      "Transphobic                  6\n",
      "Name: category, dtype: int64\n"
     ]
    },
    {
     "data": {
      "text/plain": [
       "<AxesSubplot:>"
      ]
     },
     "execution_count": 18,
     "metadata": {},
     "output_type": "execute_result"
    },
    {
     "data": {
      "image/png": "[encoded data removed]",
      "text/plain": [
       "<Figure size 432x288 with 1 Axes>"
      ]
     },
     "metadata": {},
     "output_type": "display_data"
    }
   ],
   "source": [
    "print(eng_train.category.value_counts())\n",
    "eng_train.category.value_counts().sort_values().plot(kind = 'barh')"
   ]
  },
  {
   "cell_type": "code",
   "execution_count": 19,
   "metadata": {},
   "outputs": [
    {
     "name": "stdout",
     "output_type": "stream",
     "text": [
      "Non-anti-LGBT+ content    732\n",
      "Homophobic                 58\n",
      "Transphobic                 2\n",
      "Name: category, dtype: int64\n"
     ]
    },
    {
     "data": {
      "text/plain": [
       "<AxesSubplot:>"
      ]
     },
     "execution_count": 19,
     "metadata": {},
     "output_type": "execute_result"
    },
    {
     "data": {
      "image/png": "[encoded data removed]",
      "text/plain": [
       "<Figure size 432x288 with 1 Axes>"
      ]
     },
     "metadata": {},
     "output_type": "display_data"
    }
   ],
   "source": [
    "print(eng_dev.category.value_counts())\n",
    "eng_dev.category.value_counts().sort_values().plot(kind = 'barh')"
   ]
  },
  {
   "cell_type": "markdown",
   "metadata": {},
   "source": [
    "## Tamil"
   ]
  },
  {
   "cell_type": "code",
   "execution_count": 20,
   "metadata": {},
   "outputs": [
    {
     "name": "stdout",
     "output_type": "stream",
     "text": [
      "Non-anti-LGBT+ content    2022\n",
      "Homophobic                 485\n",
      "Transphobic                155\n",
      "Name: category, dtype: int64\n"
     ]
    },
    {
     "data": {
      "text/plain": [
       "<AxesSubplot:>"
      ]
     },
     "execution_count": 20,
     "metadata": {},
     "output_type": "execute_result"
    },
    {
     "data": {
      "image/png": "[encoded data removed]",
      "text/plain": [
       "<Figure size 432x288 with 1 Axes>"
      ]
     },
     "metadata": {},
     "output_type": "display_data"
    }
   ],
   "source": [
    "print(tam_train.category.value_counts())\n",
    "tam_train.category.value_counts().sort_values().plot(kind = 'barh')"
   ]
  },
  {
   "cell_type": "code",
   "execution_count": 117,
   "metadata": {},
   "outputs": [
    {
     "name": "stdout",
     "output_type": "stream",
     "text": [
      "Homophobic\n",
      "Median:14\n",
      "Average: 21.338144329896906\n"
     ]
    }
   ],
   "source": [
    "from statistics import median\n",
    "lengths = []\n",
    "for i in tam_train[tam_train.category == 'Homophobic'].text:\n",
    "    lengths.append(len(i.split()))\n",
    "print(\"Homophobic\")\n",
    "print(f\"Median:{median(lengths)}\")\n",
    "print(f\"Average: {sum(lengths)/len(lengths)}\")"
   ]
  },
  {
   "cell_type": "code",
   "execution_count": 124,
   "metadata": {},
   "outputs": [
    {
     "name": "stdout",
     "output_type": "stream",
     "text": [
      "Non Homophobic\n",
      "Median:8.0\n",
      "Average: 12.501486620416253\n"
     ]
    }
   ],
   "source": [
    "from statistics import median\n",
    "lengths = []\n",
    "for i in tam_train[tam_train.category == 'Non-anti-LGBT+ content'].text:\n",
    "    if type(i) != float:\n",
    "        lengths.append(len(i.split()))\n",
    "print(\"Non Homophobic\")\n",
    "print(f\"Median:{median(lengths)}\")\n",
    "print(f\"Average: {sum(lengths)/len(lengths)}\")"
   ]
  },
  {
   "cell_type": "code",
   "execution_count": 126,
   "metadata": {},
   "outputs": [
    {
     "name": "stdout",
     "output_type": "stream",
     "text": [
      "Transphobic\n",
      "Median:8.0\n",
      "Average: 13.263157894736842\n"
     ]
    }
   ],
   "source": [
    "from statistics import median\n",
    "lengths = []\n",
    "for i in tam_train[tam_train.category == 'Transphobic'].text:\n",
    "    if type(i) != float:\n",
    "        lengths.append(len(i.split()))\n",
    "print(\"Transphobic\")\n",
    "print(f\"Median:{median(lengths)}\")\n",
    "print(f\"Average: {sum(lengths)/len(lengths)}\")"
   ]
  },
  {
   "cell_type": "code",
   "execution_count": 128,
   "metadata": {},
   "outputs": [
    {
     "name": "stdout",
     "output_type": "stream",
     "text": [
      "Non-anti-LGBT+ content    526\n",
      "Homophobic                103\n",
      "Transphobic                37\n",
      "Name: category, dtype: int64\n"
     ]
    },
    {
     "data": {
      "text/plain": [
       "<AxesSubplot:>"
      ]
     },
     "execution_count": 128,
     "metadata": {},
     "output_type": "execute_result"
    },
    {
     "data": {
      "image/png": "[encoded data removed]",
      "text/plain": [
       "<Figure size 432x288 with 1 Axes>"
      ]
     },
     "metadata": {},
     "output_type": "display_data"
    }
   ],
   "source": [
    "print(tam_dev.category.value_counts())\n",
    "tam_dev.category.value_counts().sort_values().plot(kind = 'barh')"
   ]
  },
  {
   "cell_type": "code",
   "execution_count": 136,
   "metadata": {},
   "outputs": [
    {
     "name": "stdout",
     "output_type": "stream",
     "text": [
      "991\n",
      "koushik raja  ஓரினச்சேர்க்கை யூத கைக்கூலிகளின் சதி! இயற்கையில் அது உண்டு தான். அப்படிப்பார்த்தால் கொலை உணர்ச்சி, கற்பழிப்பு உணர்ச்சி கூட இயற்கையில் உண்டு. அதையெல்லாம் இயற்கையின் அங்கம் என்று சொல்லிக்கொண்டு நடமுறைப்படுத்தினால் அழிவில் தான் முடியும்! அதனால் தான் ஓரினச்சேர்க்கையை தவிர்க்வேண்டும். ஏன் காதலை கூட தவிர்க்க வேண்டிய நிலைக்கு தற்கால மனித சமுதாயம் தள்ளப்பட்டுள்ளது...\n",
      "Homophobic\n"
     ]
    }
   ],
   "source": [
    "import random\n",
    "id = random.randint(0, len(tam_train))\n",
    "print(id)\n",
    "print(tam_train.text[id])\n",
    "print(tam_train.category[id])"
   ]
  }
 ],
 "metadata": {
  "kernelspec": {
   "display_name": "nlp-venv",
   "language": "python",
   "name": "myenv"
  },
  "language_info": {
   "codemirror_mode": {
    "name": "ipython",
    "version": 3
   },
   "file_extension": ".py",
   "mimetype": "text/x-python",
   "name": "python",
   "nbconvert_exporter": "python",
   "pygments_lexer": "ipython3",
   "version": "3.6.9"
  },
  "orig_nbformat": 4,
  "vscode": {
   "interpreter": {
    "hash": "df0893f56f349688326838aaeea0de204df53a132722cbd565e54b24a8fec5f6"
   }
  }
 },
 "nbformat": 4,
 "nbformat_minor": 2
}
