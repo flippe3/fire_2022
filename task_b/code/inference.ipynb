{
 "cells": [
  {
   "cell_type": "code",
   "execution_count": 3,
   "metadata": {},
   "outputs": [],
   "source": [
    "import torch\n",
    "from tqdm import tqdm\n",
    "from torch.utils.data import TensorDataset, DataLoader, RandomSampler, SequentialSampler\n",
    "import numpy as np\n",
    "from sklearn.metrics import classification_report\n",
    "from transformers import TOKENIZER_MAPPING, AutoModelForSequenceClassification, AutoTokenizer, AdamW, get_linear_schedule_with_warmup, XLMRobertaTokenizer, XLMRobertaForSequenceClassification\n",
    "import os\n",
    "from dataset import Dataset"
   ]
  },
  {
   "cell_type": "code",
   "execution_count": 5,
   "metadata": {},
   "outputs": [
    {
     "name": "stdout",
     "output_type": "stream",
     "text": [
      "There are 1 GPU(s) available.\n",
      "We will use the GPU:Tesla V100-SXM2-32GB (cuda)\n"
     ]
    }
   ],
   "source": [
    "TOKENIZER_NAME = \"sentence-transformers/paraphrase-xlm-r-multilingual-v1\"\n",
    "MODEL_NAME = \"sentence-transformers/paraphrase-xlm-r-multilingual-v1\"\n",
    "LEARNING_RATE = 3e-5\n",
    "\n",
    "#OUTPUT_FILE = \"NODUP-paraphrase-roberta-kan-pickle.md\"\n",
    "\n",
    "EPOCHS = 4\n",
    "BATCH_SIZE = 24 \n",
    "os.environ[\"CUDA_VISIBLE_DEVICES\"]=\"1\"\n",
    "\n",
    "if torch.cuda.is_available():    \n",
    "    device = torch.device(\"cuda\")\n",
    "    print('There are %d GPU(s) available.' % torch.cuda.device_count())    \n",
    "    print(f'We will use the GPU:{torch.cuda.get_device_name()} ({device})')\n",
    "\n",
    "else:\n",
    "    print('NO GPU AVAILABLE ERROR')\n",
    "    device = torch.device(\"cpu\")\n",
    "   \n",
    "tokenizer = AutoTokenizer.from_pretrained(TOKENIZER_NAME)\n",
    "#model = AutoModelForSequenceClassification.from_pretrained(\"../../task_a/pickles_mal/\", num_labels=5, output_attentions=True)\n",
    "model_phobia = AutoModelForSequenceClassification.from_pretrained(\"../pickles_mixed_all/\", num_labels=3, output_attentions=True) \n",
    "optimizer = AdamW(model.parameters(), lr = LEARNING_RATE, no_deprecation_warning=True)\n",
    "model_phobia.to(device)\n",
    "data = Dataset()\n",
    "# eng_train, eng_val, tam_train, tam_val, mal_train, mal_val, eng_tam_train, eng_tam_val\n",
    "_, _, _, _, _, _, _, datatrain = data.get_phobia_dataset(tokenizer, balance=False)\n",
    "#_,_, kan_train_2022, _, _,_ = data.get_fire_2022_dataset(tokenizer, balance=False)\n",
    "\n",
    "train_dataloader = DataLoader(\n",
    "            datatrain,\n",
    "            sampler = RandomSampler(datatrain),\n",
    "            batch_size = BATCH_SIZE)\n",
    "\n",
    "total_steps = len(train_dataloader) * EPOCHS\n",
    "\n",
    "scheduler = get_linear_schedule_with_warmup(optimizer, \n",
    "                                            num_warmup_steps = 0,\n",
    "                                            num_training_steps = total_steps)\n"
   ]
  },
  {
   "cell_type": "code",
   "execution_count": null,
   "metadata": {},
   "outputs": [],
   "source": [
    "def inference_validation(model, tokenizer, device, output_file, dataset, BS=16):\n",
    "    _, eng_val, _, tam_val, _, mal_val, _, eng_tam_val = data.get_phobia_dataset(tokenizer, balance=False)\n",
    "\n",
    "    if dataset == 'tam':\n",
    "        loader = DataLoader(tam_val, sampler = SequentialSampler(tam_val), batch_size=BS)\n",
    "    elif dataset == 'eng':\n",
    "        loader = DataLoader(eng_val, sampler = SequentialSampler(eng_val), batch_size=BS) \n",
    "    elif dataset == 'mal':\n",
    "        loader = DataLoader(mal_val, sampler = SequentialSampler(mal_val), batch_size=BS) \n",
    "    elif dataset == 'eng_tam':\n",
    "        loader = DataLoader(eng_tam_val, sampler = SequentialSampler(eng_tam_val), batch_size=BS) \n",
    "\n",
    "    print(f\"{dataset} validation: {len(loader) * BS}\")\n",
    "    \n",
    "    vbar = tqdm(enumerate(loader), total=len(loader), desc= dataset + \" validation\")\n",
    "\n",
    "    model.eval()\n",
    "    \n",
    "    true_labels = []\n",
    "    pred_labels = []\n",
    "    #total_eval_loss = 0\n",
    "    \n",
    "    # Label names: Index(['Mixed_feelings', 'Negative', 'Positive', 'not-Tamil', 'unknown_state']\n",
    "    # Label names: Index(['Homophobic', 'Non-anti-LGBT+ content', 'Transphobic']\n",
    "    \n",
    "    for step, batch in vbar:\n",
    "        b_input_ids = batch[0].to(device)\n",
    "        b_masks = batch[1].to(device)\n",
    "        b_labels = batch[2].to(device)\n",
    "\n",
    "        with torch.no_grad(): \n",
    "            outputs_two = model_phobia(input_ids=b_input_ids, attention_mask=b_masks,\n",
    "                                            labels=b_labels)\n",
    "            \n",
    "            #total_eval_loss += outputs.loss.item()\n",
    "            logits_two = outputs_two.logits.detach().cpu().numpy().tolist() \n",
    "            label_ids = b_labels.to('cpu').numpy().tolist()\n",
    "\n",
    "            true_labels.extend(label_ids)\n",
    "\n",
    "            #print(f\"Predicted: {pred_labels[-1]}, {np.argmax(i)}\")\n",
    "            #print(f\"{pred_labels[-24:]},{np.argmax(logits_two, axis=1)}\")\n",
    "            #pred_labels.extend(np.argmax(logits,axis=1))\n",
    "        \n",
    "        #f = open(\"../outputs/sentiment\", 'a')\n",
    "        #f.write(str(pred_labels))\n",
    "    print(classification_report(pred_labels, true_labels))\n",
    "    \n",
    "    model.train()"
   ]
  },
  {
   "cell_type": "code",
   "execution_count": null,
   "metadata": {},
   "outputs": [
    {
     "ename": "NameError",
     "evalue": "name 'data' is not defined",
     "output_type": "error",
     "traceback": [
      "\u001b[0;31m---------------------------------------------------------------------------\u001b[0m",
      "\u001b[0;31mNameError\u001b[0m                                 Traceback (most recent call last)",
      "\u001b[0;32m<ipython-input-6-3dcf03e3466a>\u001b[0m in \u001b[0;36m<module>\u001b[0;34m()\u001b[0m\n\u001b[1;32m      1\u001b[0m \u001b[0mOUTPUT_FILE\u001b[0m \u001b[0;34m=\u001b[0m \u001b[0;34m\"BIAOJSDOIJASD\"\u001b[0m\u001b[0;34m\u001b[0m\u001b[0;34m\u001b[0m\u001b[0m\n\u001b[0;32m----> 2\u001b[0;31m \u001b[0minference_validation\u001b[0m\u001b[0;34m(\u001b[0m\u001b[0mmodel\u001b[0m\u001b[0;34m=\u001b[0m\u001b[0mmodel_phobia\u001b[0m\u001b[0;34m,\u001b[0m \u001b[0mtokenizer\u001b[0m\u001b[0;34m=\u001b[0m\u001b[0mtokenizer\u001b[0m\u001b[0;34m,\u001b[0m \u001b[0mdevice\u001b[0m\u001b[0;34m=\u001b[0m\u001b[0mdevice\u001b[0m\u001b[0;34m,\u001b[0m \u001b[0moutput_file\u001b[0m\u001b[0;34m=\u001b[0m\u001b[0mOUTPUT_FILE\u001b[0m\u001b[0;34m,\u001b[0m \u001b[0mBS\u001b[0m\u001b[0;34m=\u001b[0m\u001b[0mBATCH_SIZE\u001b[0m\u001b[0;34m,\u001b[0m \u001b[0mdataset\u001b[0m\u001b[0;34m=\u001b[0m\u001b[0;34m'mal'\u001b[0m\u001b[0;34m)\u001b[0m\u001b[0;34m\u001b[0m\u001b[0;34m\u001b[0m\u001b[0m\n\u001b[0m",
      "\u001b[0;32m<ipython-input-4-06cbcc8e3c4e>\u001b[0m in \u001b[0;36minference_validation\u001b[0;34m(model, tokenizer, device, output_file, dataset, BS)\u001b[0m\n\u001b[1;32m      1\u001b[0m \u001b[0;32mdef\u001b[0m \u001b[0minference_validation\u001b[0m\u001b[0;34m(\u001b[0m\u001b[0mmodel\u001b[0m\u001b[0;34m,\u001b[0m \u001b[0mtokenizer\u001b[0m\u001b[0;34m,\u001b[0m \u001b[0mdevice\u001b[0m\u001b[0;34m,\u001b[0m \u001b[0moutput_file\u001b[0m\u001b[0;34m,\u001b[0m \u001b[0mdataset\u001b[0m\u001b[0;34m,\u001b[0m \u001b[0mBS\u001b[0m\u001b[0;34m=\u001b[0m\u001b[0;36m16\u001b[0m\u001b[0;34m)\u001b[0m\u001b[0;34m:\u001b[0m\u001b[0;34m\u001b[0m\u001b[0;34m\u001b[0m\u001b[0m\n\u001b[0;32m----> 2\u001b[0;31m     \u001b[0m_\u001b[0m\u001b[0;34m,\u001b[0m \u001b[0meng_val\u001b[0m\u001b[0;34m,\u001b[0m \u001b[0m_\u001b[0m\u001b[0;34m,\u001b[0m \u001b[0mtam_val\u001b[0m\u001b[0;34m,\u001b[0m \u001b[0m_\u001b[0m\u001b[0;34m,\u001b[0m \u001b[0mmal_val\u001b[0m\u001b[0;34m,\u001b[0m \u001b[0m_\u001b[0m\u001b[0;34m,\u001b[0m \u001b[0meng_tam_val\u001b[0m \u001b[0;34m=\u001b[0m \u001b[0mdata\u001b[0m\u001b[0;34m.\u001b[0m\u001b[0mget_phobia_dataset\u001b[0m\u001b[0;34m(\u001b[0m\u001b[0mtokenizer\u001b[0m\u001b[0;34m,\u001b[0m \u001b[0mbalance\u001b[0m\u001b[0;34m=\u001b[0m\u001b[0;32mFalse\u001b[0m\u001b[0;34m)\u001b[0m\u001b[0;34m\u001b[0m\u001b[0;34m\u001b[0m\u001b[0m\n\u001b[0m\u001b[1;32m      3\u001b[0m \u001b[0;34m\u001b[0m\u001b[0m\n\u001b[1;32m      4\u001b[0m     \u001b[0;32mif\u001b[0m \u001b[0mdataset\u001b[0m \u001b[0;34m==\u001b[0m \u001b[0;34m'tam'\u001b[0m\u001b[0;34m:\u001b[0m\u001b[0;34m\u001b[0m\u001b[0;34m\u001b[0m\u001b[0m\n\u001b[1;32m      5\u001b[0m         \u001b[0mloader\u001b[0m \u001b[0;34m=\u001b[0m \u001b[0mDataLoader\u001b[0m\u001b[0;34m(\u001b[0m\u001b[0mtam_val\u001b[0m\u001b[0;34m,\u001b[0m \u001b[0msampler\u001b[0m \u001b[0;34m=\u001b[0m \u001b[0mSequentialSampler\u001b[0m\u001b[0;34m(\u001b[0m\u001b[0mtam_val\u001b[0m\u001b[0;34m)\u001b[0m\u001b[0;34m,\u001b[0m \u001b[0mbatch_size\u001b[0m\u001b[0;34m=\u001b[0m\u001b[0mBS\u001b[0m\u001b[0;34m)\u001b[0m\u001b[0;34m\u001b[0m\u001b[0;34m\u001b[0m\u001b[0m\n",
      "\u001b[0;31mNameError\u001b[0m: name 'data' is not defined"
     ]
    }
   ],
   "source": [
    "OUTPUT_FILE = \"BIAOJSDOIJASD\"\n",
    "inference_validation(model=model_phobia, tokenizer=tokenizer, device=device, output_file=OUTPUT_FILE, BS=BATCH_SIZE, dataset='mal')"
   ]
  },
  {
   "cell_type": "code",
   "execution_count": null,
   "metadata": {},
   "outputs": [],
   "source": []
  }
 ],
 "metadata": {
  "kernelspec": {
   "display_name": "nlp-venv",
   "language": "python",
   "name": "myenv"
  },
  "language_info": {
   "codemirror_mode": {
    "name": "ipython",
    "version": 3
   },
   "file_extension": ".py",
   "mimetype": "text/x-python",
   "name": "python",
   "nbconvert_exporter": "python",
   "pygments_lexer": "ipython3",
   "version": "3.6.9"
  },
  "orig_nbformat": 4
 },
 "nbformat": 4,
 "nbformat_minor": 2
}
